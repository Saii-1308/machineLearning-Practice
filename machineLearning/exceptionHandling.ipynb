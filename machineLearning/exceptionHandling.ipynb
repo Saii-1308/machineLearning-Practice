{
 "cells": [
  {
   "cell_type": "code",
   "execution_count": null,
   "id": "805e3666",
   "metadata": {},
   "outputs": [
    {
     "name": "stdout",
     "output_type": "stream",
     "text": [
      "variable not defined\n"
     ]
    }
   ],
   "source": [
    "try:\n",
    "    a=b\n",
    "except :\n",
    "    print(\"variable not defined\")"
   ]
  },
  {
   "cell_type": "code",
   "execution_count": null,
   "id": "fc01718c",
   "metadata": {},
   "outputs": [
    {
     "name": "stdout",
     "output_type": "stream",
     "text": [
      "can't divide by zero\n"
     ]
    }
   ],
   "source": [
    "try:\n",
    "    result=10/0\n",
    "except ZeroDivisionError:\n",
    "    print(\"can't divide by zero\")"
   ]
  },
  {
   "cell_type": "code",
   "execution_count": null,
   "id": "0872f2ab",
   "metadata": {},
   "outputs": [
    {
     "name": "stdout",
     "output_type": "stream",
     "text": [
      "An error occurred: name 'b' is not defined\n"
     ]
    }
   ],
   "source": [
    "try:\n",
    "    a=b\n",
    "except ZeroDivisionError as e:\n",
    "    print(e)\n",
    "#except NameError as e:\n",
    " #   print(e)\n",
    "except Exception as e:\n",
    "    print(\"An error occurred:\", e)"
   ]
  },
  {
   "cell_type": "code",
   "execution_count": null,
   "id": "3e904f7d",
   "metadata": {},
   "outputs": [
    {
     "name": "stdout",
     "output_type": "stream",
     "text": [
      "division by zero\n"
     ]
    }
   ],
   "source": [
    "try:\n",
    "    num=int(input(\"enter the number\"))\n",
    "    result=10/num\n",
    "except ValueError as e:\n",
    "    print(e)\n",
    "except ZeroDivisionError as e:\n",
    "    print(e)\n",
    "except Exception as e:\n",
    "    print(e)\n",
    "else:\n",
    "    print(result)#if erroe happen then else block are not reun"
   ]
  },
  {
   "cell_type": "code",
   "execution_count": null,
   "id": "f2497eee",
   "metadata": {},
   "outputs": [
    {
     "name": "stdout",
     "output_type": "stream",
     "text": [
      "not readable\n",
      "This block always executes, regardless of exceptions.\n"
     ]
    }
   ],
   "source": [
    "try:\n",
    "    with open(\"sai.txt\",\"w\")as file:\n",
    "        content=file.read()\n",
    "except FileNotFoundError as e:\n",
    "    print(e)\n",
    "except Exception as e:\n",
    "    print(e)\n",
    "else:\n",
    "    print(content)\n",
    "finally:\n",
    "    print(\"This block always executes, regardless of exceptions.\")"
   ]
  },
  {
   "cell_type": "code",
   "execution_count": null,
   "id": "8773ea6d",
   "metadata": {},
   "outputs": [
    {
     "name": "stdout",
     "output_type": "stream",
     "text": [
      "Caught a ValueError: this is the value error and it is raised by the user\n",
      "This block always executes after risk_fun.\n"
     ]
    }
   ],
   "source": [
    "def risk_fun():\n",
    "    raise ValueError(\"this is the value error and it is raised by the user\")\n",
    "def another_risk_error():\n",
    "    raise RuntimeError(\"this is the runtime error and it is raised by the user\")\n",
    "\n",
    "def safe_fun():\n",
    "    try:\n",
    "        risk_fun()\n",
    "        another_risk_error()\n",
    "    except ValueError as e:\n",
    "        print(\"Caught a ValueError:\", e)\n",
    "    except Exception as e:\n",
    "        print(\"Caught an unexpected exception:\", e)\n",
    "    finally:\n",
    "        print(\"This block always executes after risk_fun.\")\n",
    "\n",
    "safe_fun()"
   ]
  },
  {
   "cell_type": "code",
   "execution_count": 2,
   "id": "f3633f71",
   "metadata": {},
   "outputs": [
    {
     "name": "stdout",
     "output_type": "stream",
     "text": [
      "Negative number found: -4\n",
      "Execution completed for negativeNumber function\n"
     ]
    }
   ],
   "source": [
    "def negativeNumber(nums):\n",
    "    try:\n",
    "        for num in nums:\n",
    "            if num < 0:\n",
    "                raise ValueError(f\"Negative number found: {num}\")\n",
    "                raise negativeNumber(f\"Negative number found: {num}\")\n",
    "    except ValueError as e:\n",
    "        print(e)\n",
    "    else:\n",
    "        print(\"All numbers are non-negative\")\n",
    "    finally:\n",
    "        print(\"Execution completed for negativeNumber function\")\n",
    "    \n",
    "nums=[1,2,3,-4,5]\n",
    "negativeNumber(nums)\n"
   ]
  },
  {
   "cell_type": "code",
   "execution_count": null,
   "id": "6905f7c5",
   "metadata": {},
   "outputs": [
    {
     "name": "stdout",
     "output_type": "stream",
     "text": [
      "invalid literal for int() with base 10: 'sai'\n",
      "excution completed for data_conversion function\n"
     ]
    }
   ],
   "source": [
    "def data_conversion(data):\n",
    "    list=[]\n",
    "    try:\n",
    "        for i in data:\n",
    "            list.append(int(i))\n",
    "    except ValueError as e:\n",
    "        print(e)\n",
    "    except TypeError as e:\n",
    "        print(e)\n",
    "    else:\n",
    "        print(\"Data converted sucessfully\")\n",
    "        print(list)\n",
    "    finally:\n",
    "        print(\"excution completed for data_conversion function\")\n",
    "\n",
    "data=['1','2','3','4','5','sai']\n",
    "data_conversion(data)\n",
    "        "
   ]
  },
  {
   "cell_type": "code",
   "execution_count": 9,
   "id": "56fda8a0",
   "metadata": {},
   "outputs": [],
   "source": [
    "#custom exception ( raise and throw )\n",
    "\n",
    "class Error(Exception):\n",
    "    pass\n",
    "\n",
    "class customeError(Error):\n",
    "    def __init__(self):\n",
    "        print(\"custome error is raised\")\n",
    "\n",
    "\n"
   ]
  },
  {
   "cell_type": "code",
   "execution_count": null,
   "id": "fb14522d",
   "metadata": {},
   "outputs": [
    {
     "name": "stdout",
     "output_type": "stream",
     "text": [
      "custome error is raised\n",
      "you are not eligable for the job\n"
     ]
    }
   ],
   "source": [
    "year=int(input(\"enter the dob\"))\n",
    "age=2025-year\n",
    "\n",
    "try:\n",
    "    if age>=20 and age<=30:\n",
    "        print(\"your eligable for the job\")\n",
    "    else:\n",
    "        raise customeError\n",
    "except customeError:\n",
    "    print(\"you are not eligable for the job\")\n"
   ]
  },
  {
   "cell_type": "code",
   "execution_count": 12,
   "id": "5600bb13",
   "metadata": {},
   "outputs": [
    {
     "name": "stdout",
     "output_type": "stream",
     "text": [
      "plese enter your name in alphabets\n",
      "name should be in alphabets only\n"
     ]
    }
   ],
   "source": [
    "class invalide_name(Error):\n",
    "    def __init__(self):\n",
    "        print(\"plese enter your name in alphabets\")\n",
    "    \n",
    "name=input(\"enter your name\")\n",
    "try:\n",
    "    if not name.isalpha():\n",
    "        raise invalide_name\n",
    "\n",
    "except invalide_name:\n",
    "    print(\"name should be in alphabets only\")\n",
    "else:\n",
    "    print(f\"hello {name}, welcome to the program!\")"
   ]
  }
 ],
 "metadata": {
  "kernelspec": {
   "display_name": "Python 3",
   "language": "python",
   "name": "python3"
  },
  "language_info": {
   "codemirror_mode": {
    "name": "ipython",
    "version": 3
   },
   "file_extension": ".py",
   "mimetype": "text/x-python",
   "name": "python",
   "nbconvert_exporter": "python",
   "pygments_lexer": "ipython3",
   "version": "3.13.2"
  }
 },
 "nbformat": 4,
 "nbformat_minor": 5
}
