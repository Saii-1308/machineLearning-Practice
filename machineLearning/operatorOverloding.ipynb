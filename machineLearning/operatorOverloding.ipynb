{
 "cells": [
  {
   "cell_type": "code",
   "execution_count": 8,
   "id": "9eb5fabb",
   "metadata": {},
   "outputs": [
    {
     "name": "stdout",
     "output_type": "stream",
     "text": [
      "vector(4,6)\n",
      "vector(-2,-2)\n",
      "vector(3,8)\n",
      "False\n"
     ]
    }
   ],
   "source": [
    "#addition of vector \n",
    "\n",
    "class vector:\n",
    "    def __init__(self,x,y):\n",
    "        self.x=x\n",
    "        self.y=y\n",
    "    \n",
    "    def __add__(self,other):\n",
    "        return vector(self.x+other.x,self.y+other.y)\n",
    "    \n",
    "    def __sub__(self,other):\n",
    "        return vector(self.x-other.x,self.y-other.y)\n",
    "    \n",
    "    def __mul__(self,other):\n",
    "        return vector(self.x*other.x,self.y*other.y)\n",
    "    \n",
    "    def __eq__(self,other):\n",
    "        return self.x==other.x and self.y==other.y\n",
    "    \n",
    "    def __repr__(self):\n",
    "        return f\"vector({self.x},{self.y})\"\n",
    "\n",
    "v1=vector(1,2)\n",
    "v2=vector(3,4)\n",
    "\n",
    "print(v1+v2)\n",
    "print(v1-v2)\n",
    "print(v1*v2)\n",
    "print(v1==v2)   \n"
   ]
  },
  {
   "cell_type": "code",
   "execution_count": 9,
   "id": "f0b4ff8c",
   "metadata": {},
   "outputs": [
    {
     "data": {
      "text/plain": [
       "['__add__',\n",
       " '__class__',\n",
       " '__delattr__',\n",
       " '__dict__',\n",
       " '__dir__',\n",
       " '__doc__',\n",
       " '__eq__',\n",
       " '__firstlineno__',\n",
       " '__format__',\n",
       " '__ge__',\n",
       " '__getattribute__',\n",
       " '__getstate__',\n",
       " '__gt__',\n",
       " '__hash__',\n",
       " '__init__',\n",
       " '__init_subclass__',\n",
       " '__le__',\n",
       " '__lt__',\n",
       " '__module__',\n",
       " '__mul__',\n",
       " '__ne__',\n",
       " '__new__',\n",
       " '__reduce__',\n",
       " '__reduce_ex__',\n",
       " '__repr__',\n",
       " '__setattr__',\n",
       " '__sizeof__',\n",
       " '__static_attributes__',\n",
       " '__str__',\n",
       " '__sub__',\n",
       " '__subclasshook__',\n",
       " '__weakref__',\n",
       " 'x',\n",
       " 'y']"
      ]
     },
     "execution_count": 9,
     "metadata": {},
     "output_type": "execute_result"
    }
   ],
   "source": [
    "dir(v1)"
   ]
  },
  {
   "cell_type": "code",
   "execution_count": 15,
   "id": "22971d6c",
   "metadata": {},
   "outputs": [
    {
     "name": "stdout",
     "output_type": "stream",
     "text": [
      "<class 'list_iterator'>\n",
      "<list_iterator object at 0x0000026ECD6119F0>\n"
     ]
    }
   ],
   "source": [
    "#Iterator \n",
    "list1=[1,2,3,4,5]\n",
    "iterator1=iter(list1)\n",
    "\n",
    "print(type(iterator1))\n",
    "print(iterator1)"
   ]
  },
  {
   "cell_type": "code",
   "execution_count": null,
   "id": "5cac4502",
   "metadata": {},
   "outputs": [],
   "source": [
    "mylist=[1,2,3,4,5]\n",
    "iterator2=iter(mylist)"
   ]
  },
  {
   "cell_type": "code",
   "execution_count": 41,
   "id": "8d0e2abf",
   "metadata": {},
   "outputs": [
    {
     "name": "stdout",
     "output_type": "stream",
     "text": [
      "hey stop iteration there are no more element in the iterator!!!\n"
     ]
    }
   ],
   "source": [
    "try:\n",
    "    print(next(iterator1))\n",
    "\n",
    "except StopIteration as e:\n",
    "    print(\"hey stop iteration there are no more element in the iterator!!!\")"
   ]
  },
  {
   "cell_type": "code",
   "execution_count": 51,
   "id": "276b8a2a",
   "metadata": {},
   "outputs": [
    {
     "name": "stdout",
     "output_type": "stream",
     "text": [
      "h\n"
     ]
    }
   ],
   "source": [
    "string1=\"hello sai!!\"\n",
    "str_iteratir=iter(string1)\n",
    "\n",
    "try:\n",
    "    print(next(str_iteratir))\n",
    "except Exception as e:\n",
    "    print(\"hey stop iteration there are no more element in the iterator!!!\")"
   ]
  },
  {
   "cell_type": "code",
   "execution_count": 57,
   "id": "4f69501c",
   "metadata": {},
   "outputs": [
    {
     "name": "stdout",
     "output_type": "stream",
     "text": [
      "h\n"
     ]
    }
   ],
   "source": [
    "str1=\"hello\"\n",
    "iterator3=iter(str1)\n",
    "print(next(iterator3))"
   ]
  },
  {
   "cell_type": "code",
   "execution_count": 74,
   "id": "7ecd909c",
   "metadata": {},
   "outputs": [
    {
     "name": "stdout",
     "output_type": "stream",
     "text": [
      "<class 'generator'>\n"
     ]
    }
   ],
   "source": [
    "#generators\n",
    "\n",
    "'''it is a subclass of the iterators uses yield keyword'''\n",
    "\n",
    "def square(n):\n",
    "    for i in range(n):\n",
    "        yield i**2\n",
    "\n",
    "squ=square(4)\n",
    "print(type(squ))\n",
    "\n",
    "\n"
   ]
  },
  {
   "cell_type": "code",
   "execution_count": 75,
   "id": "dbb786e3",
   "metadata": {},
   "outputs": [
    {
     "data": {
      "text/plain": [
       "<generator object square at 0x0000026ECDB04EE0>"
      ]
     },
     "execution_count": 75,
     "metadata": {},
     "output_type": "execute_result"
    }
   ],
   "source": [
    "squ"
   ]
  },
  {
   "cell_type": "code",
   "execution_count": 80,
   "id": "199e8114",
   "metadata": {},
   "outputs": [
    {
     "ename": "StopIteration",
     "evalue": "",
     "output_type": "error",
     "traceback": [
      "\u001b[31m---------------------------------------------------------------------------\u001b[39m",
      "\u001b[31mStopIteration\u001b[39m                             Traceback (most recent call last)",
      "\u001b[36mCell\u001b[39m\u001b[36m \u001b[39m\u001b[32mIn[80]\u001b[39m\u001b[32m, line 1\u001b[39m\n\u001b[32m----> \u001b[39m\u001b[32m1\u001b[39m \u001b[38;5;28mprint\u001b[39m(\u001b[38;5;28;43mnext\u001b[39;49m\u001b[43m(\u001b[49m\u001b[43msqu\u001b[49m\u001b[43m)\u001b[49m)\n",
      "\u001b[31mStopIteration\u001b[39m: "
     ]
    }
   ],
   "source": [
    "print(next(squ))"
   ]
  },
  {
   "cell_type": "code",
   "execution_count": 78,
   "id": "1f2f03e1",
   "metadata": {},
   "outputs": [],
   "source": [
    "#reading large files using generators\n",
    "\n",
    "def read_large_file(file_path):\n",
    "    with open(file_path,'r')as file:\n",
    "        for line in file:\n",
    "            yield line"
   ]
  },
  {
   "cell_type": "code",
   "execution_count": 79,
   "id": "dee2a840",
   "metadata": {},
   "outputs": [
    {
     "name": "stdout",
     "output_type": "stream",
     "text": [
      "Schedule learning time\n",
      "Learning a little each day adds up. Research shows that students who make learning a habit are more likely to reach their goals. Set time aside to learn and get reminders using your learning scheduler.\n",
      "Master the theory, practice,and math behind Data Science,Machine Learning,Deep Learning,NLP with end to end projects\n",
      "Rating: 4.6 out of 5\n",
      "4.6\n",
      "14,807 ratings\n",
      "87,796\n",
      "Students\n",
      "99 hours\n",
      "Total\n",
      "Last updated June 2025\n",
      "English\n",
      "English [CC], Arabic [Auto]\n",
      ",\n",
      "What you'll learn\n",
      "Master foundational and advanced Machine Learning and NLP concepts.\n",
      "Apply theoretical and practical knowledge to real-world projects using Machine learning,NLP And MLOPS\n",
      "Understand and implement mathematical principles behind ML algorithms.\n",
      "Develop and optimize ML models using industry-standard tools and techniques.\n",
      "Understand The Core intuition of Deep Learning such as optimizers,loss functions,neural networks and cnn\n",
      "I am the Ex Co-founder and Chief AI Engineer of iNeuron and my experience is pioneering in machine learning,\n",
      "deep learning, and computer vision,Generative AI,an educator, and a mentor, with over 15 years' experience in the industry.\n",
      "These are my Udemy Courses where I explain various topics on machine learning, deep learning, and AI with many real-world problem scenarios.\n",
      "I have delivered over 30+ tech talks on data science, machine learning, and AI at various meet-ups, technical institutions, and community-arranged forums.\n",
      "My main aim is to make everyone familiar of ML and AI.\n"
     ]
    }
   ],
   "source": [
    "file_path=\"sai.txt\"\n",
    "\n",
    "for line in read_large_file(file_path):\n",
    "    print(line.strip())"
   ]
  }
 ],
 "metadata": {
  "kernelspec": {
   "display_name": "Python 3",
   "language": "python",
   "name": "python3"
  },
  "language_info": {
   "codemirror_mode": {
    "name": "ipython",
    "version": 3
   },
   "file_extension": ".py",
   "mimetype": "text/x-python",
   "name": "python",
   "nbconvert_exporter": "python",
   "pygments_lexer": "ipython3",
   "version": "3.13.2"
  }
 },
 "nbformat": 4,
 "nbformat_minor": 5
}
