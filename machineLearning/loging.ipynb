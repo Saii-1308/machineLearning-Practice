{
 "cells": [
  {
   "cell_type": "code",
   "execution_count": 2,
   "id": "f42a1dd7",
   "metadata": {},
   "outputs": [],
   "source": [
    "import logging\n",
    "\n",
    "#configure basic loging seeting\n",
    "logging.basicConfig(level=logging.DEBUG)\n",
    "\n",
    "#log messages with different severity lavel\n",
    "logging.debug(\"this is debguge message\")\n",
    "logging.info(\"this is an info message\")\n",
    "logging.warning(\"this is warning message\")\n",
    "logging.error(\"this is error message\")\n",
    "logging.critical(\"this is critical message\")"
   ]
  },
  {
   "cell_type": "code",
   "execution_count": 1,
   "id": "ee4a8602",
   "metadata": {},
   "outputs": [],
   "source": [
    "import logging\n",
    "\n",
    "logging.basicConfig(\n",
    "    filename='app.log',\n",
    "    filemode='w',\n",
    "    level=logging.DEBUG,\n",
    "    format='%(asctime)s-%(name)s-%(levelname)s-%(message)s',\n",
    "    datefmt='%y-%m-%d  %H:%M:%S'               \n",
    ")\n",
    "logging.debug(\"this is debguge message\")\n",
    "logging.info(\"this is an info message\")\n",
    "logging.warning(\"this is warning message\")\n",
    "logging.error(\"this is error message\")\n",
    "logging.critical(\"this is critical message\")"
   ]
  },
  {
   "cell_type": "code",
   "execution_count": 3,
   "id": "948c0fc5",
   "metadata": {},
   "outputs": [],
   "source": [
    "#create multiple loggers for differnet parts of application\n",
    "logger1=logging.getLogger(\"modeule1\")\n",
    "logger1.setLevel(logging.DEBUG)\n",
    "\n",
    "#create logger for module 2\n",
    "logger2=logging.getLogger(\"modeule2\")\n",
    "logger2.setLevel(logging.WARNING)\n",
    "\n"
   ]
  },
  {
   "cell_type": "code",
   "execution_count": 4,
   "id": "c9a241c7",
   "metadata": {},
   "outputs": [
    {
     "ename": "SyntaxError",
     "evalue": "invalid syntax. Perhaps you forgot a comma? (3924233584.py, line 3)",
     "output_type": "error",
     "traceback": [
      "  \u001b[36mCell\u001b[39m\u001b[36m \u001b[39m\u001b[32mIn[4]\u001b[39m\u001b[32m, line 3\u001b[39m\n\u001b[31m    \u001b[39m\u001b[31mformat='%(asctime)s - %(name)s - %(levelname)s -%(message)s'\u001b[39m\n           ^\n\u001b[31mSyntaxError\u001b[39m\u001b[31m:\u001b[39m invalid syntax. Perhaps you forgot a comma?\n"
     ]
    }
   ],
   "source": [
    "logging.basicConfig(\n",
    "    level=logging.DEBUG,\n",
    "    format='%(asctime)s - %(name)s - %(levelname)s -%(message)s'\n",
    "    datefmt='%y=%m-%d %H-%M-%S'\n",
    ")"
   ]
  }
 ],
 "metadata": {
  "kernelspec": {
   "display_name": "Python 3",
   "language": "python",
   "name": "python3"
  },
  "language_info": {
   "codemirror_mode": {
    "name": "ipython",
    "version": 3
   },
   "file_extension": ".py",
   "mimetype": "text/x-python",
   "name": "python",
   "nbconvert_exporter": "python",
   "pygments_lexer": "ipython3",
   "version": "3.13.2"
  }
 },
 "nbformat": 4,
 "nbformat_minor": 5
}
