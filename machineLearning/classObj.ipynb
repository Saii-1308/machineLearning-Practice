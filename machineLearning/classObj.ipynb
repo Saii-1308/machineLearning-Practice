{
 "cells": [
  {
   "cell_type": "code",
   "execution_count": null,
   "id": "14fa70d3",
   "metadata": {},
   "outputs": [
    {
     "name": "stdout",
     "output_type": "stream",
     "text": [
      "<class '__main__.car'>\n",
      "<class '__main__.car'>\n"
     ]
    }
   ],
   "source": [
    "class car:\n",
    "    pass\n",
    "\n",
    "bmw=car()\n",
    "audi=car()\n",
    "\n",
    "print(type(bmw))\n",
    "print(type(audi))\n",
    "\n"
   ]
  },
  {
   "cell_type": "code",
   "execution_count": 4,
   "id": "3607a938",
   "metadata": {},
   "outputs": [
    {
     "name": "stdout",
     "output_type": "stream",
     "text": [
      "buddy is barking\n",
      "max is barking\n",
      "<__main__.dog object at 0x000002499E2E5550>\n",
      "max\n",
      "3\n"
     ]
    }
   ],
   "source": [
    "class dog:\n",
    "    def __init__(self,name,age):\n",
    "        self.name=name\n",
    "        self.age=age\n",
    "    \n",
    "    def bark(self):\n",
    "        print(f\"{self.name} is barking\")\n",
    "\n",
    "dog1=dog(\"buddy\",5)\n",
    "dog1.bark()\n",
    "\n",
    "dog2=dog(\"max\",3)\n",
    "dog2.bark()\n",
    "\n",
    "print(dog1)\n",
    "print(dog2.name)\n",
    "print(dog2.age)\n",
    "    \n"
   ]
  },
  {
   "cell_type": "code",
   "execution_count": 6,
   "id": "7f5ef83f",
   "metadata": {},
   "outputs": [
    {
     "name": "stdout",
     "output_type": "stream",
     "text": [
      "account number: 12\n",
      "account holder Name: sai\n",
      "balance in account: 90000\n",
      "230000 are added new balace are 320000\n",
      "Error: insufficient balance\n"
     ]
    }
   ],
   "source": [
    "#modeling a bank account\n",
    "\n",
    "class BankAccount:\n",
    "     \n",
    "     def __init__(self,account_number,account_holder,balance=0):\n",
    "        self.account_number=account_number\n",
    "        self.account_holder=account_holder\n",
    "        self.balance=balance\n",
    "\n",
    "        print(f\"account number: {self.account_number}\")\n",
    "        print(f\"account holder Name: {self.account_holder}\")\n",
    "        print(f\"balance in account: {self.balance}\")\n",
    "    \n",
    "     def deposite(self,amount):\n",
    "         self.balance+=amount\n",
    "         print(f\"{amount} are added new balace are {self.balance}\")\n",
    "     \n",
    "     def widraw(self,amount):\n",
    "        try:\n",
    "           if amount > self.balance:\n",
    "            raise Exception(\"insufficient balance\")\n",
    "            print(\"insuffin=cient balance\")\n",
    "        except Exception as e:\n",
    "           print(f\"Error: {e}\")\n",
    "        else:\n",
    "           self.balance-=amount\n",
    "           print(f\"{amount} are widrow sucessfully!! the new balance {self.balance}\")\n",
    "    \n",
    "\n",
    "account=BankAccount(12,\"sai\",90000)\n",
    "account.deposite(230000)\n",
    "account.widraw(325000)         \n",
    "     "
   ]
  },
  {
   "cell_type": "code",
   "execution_count": 7,
   "id": "cff4957c",
   "metadata": {},
   "outputs": [
    {
     "ename": "TypeError",
     "evalue": "Cannot create a consistent method resolution order (MRO) for bases Car, Tesla",
     "output_type": "error",
     "traceback": [
      "\u001b[31m---------------------------------------------------------------------------\u001b[39m",
      "\u001b[31mTypeError\u001b[39m                                 Traceback (most recent call last)",
      "\u001b[36mCell\u001b[39m\u001b[36m \u001b[39m\u001b[32mIn[7]\u001b[39m\u001b[32m, line 23\u001b[39m\n\u001b[32m     20\u001b[39m         \u001b[38;5;28;01melse\u001b[39;00m:\n\u001b[32m     21\u001b[39m             \u001b[38;5;28mprint\u001b[39m(\u001b[33m\"\u001b[39m\u001b[33mAutopilot mode is OFF\u001b[39m\u001b[33m\"\u001b[39m)\n\u001b[32m---> \u001b[39m\u001b[32m23\u001b[39m \u001b[38;5;28;43;01mclass\u001b[39;49;00m\u001b[38;5;250;43m \u001b[39;49m\u001b[34;43;01mBMW\u001b[39;49;00m\u001b[43m \u001b[49m\u001b[43m(\u001b[49m\u001b[43mCar\u001b[49m\u001b[43m,\u001b[49m\u001b[43m \u001b[49m\u001b[43mTesla\u001b[49m\u001b[43m)\u001b[49m\u001b[43m:\u001b[49m\n\u001b[32m     24\u001b[39m \u001b[43m    \u001b[49m\u001b[38;5;28;43;01mdef\u001b[39;49;00m\u001b[38;5;250;43m \u001b[39;49m\u001b[34;43m__init__\u001b[39;49m\u001b[43m(\u001b[49m\u001b[38;5;28;43mself\u001b[39;49m\u001b[43m,\u001b[49m\u001b[43m \u001b[49m\u001b[43mwindow\u001b[49m\u001b[43m,\u001b[49m\u001b[43m \u001b[49m\u001b[43mdoors\u001b[49m\u001b[43m,\u001b[49m\u001b[43m \u001b[49m\u001b[43mengine\u001b[49m\u001b[43m,\u001b[49m\u001b[43m \u001b[49m\u001b[43mautopoilot\u001b[49m\u001b[43m)\u001b[49m\u001b[43m:\u001b[49m\n\u001b[32m     25\u001b[39m \u001b[43m        \u001b[49m\u001b[38;5;28;43msuper\u001b[39;49m\u001b[43m(\u001b[49m\u001b[43m)\u001b[49m\u001b[43m.\u001b[49m\u001b[34;43m__init__\u001b[39;49m\u001b[43m(\u001b[49m\u001b[43mwindow\u001b[49m\u001b[43m,\u001b[49m\u001b[43m \u001b[49m\u001b[43mdoors\u001b[49m\u001b[43m,\u001b[49m\u001b[43m \u001b[49m\u001b[43mengine\u001b[49m\u001b[43m,\u001b[49m\u001b[43m \u001b[49m\u001b[43mautopoilot\u001b[49m\u001b[43m)\u001b[49m\n",
      "\u001b[31mTypeError\u001b[39m: Cannot create a consistent method resolution order (MRO) for bases Car, Tesla"
     ]
    }
   ],
   "source": [
    "#inheritance\n",
    "\n",
    "class Car:\n",
    "    def __init__(self,window,doors,engine):\n",
    "        self.window=window\n",
    "        self.doors=doors\n",
    "        self.engine=engine\n",
    "    \n",
    "    def drive(self):\n",
    "        print(\"the care is driving\")\n",
    "\n",
    "class Tesla(Car):\n",
    "    def __init__(self,window,doors,engine,autopoilot):\n",
    "        super().__init__(window,doors,engine)\n",
    "        self.autopoilot=autopoilot\n",
    "    \n",
    "    def autopilot_mode(self):\n",
    "        if self.autopoilot:\n",
    "            print(\"Autopilot mode is ON\")\n",
    "        else:\n",
    "            print(\"Autopilot mode is OFF\")\n",
    "\n",
    "class BMW (Car, Tesla):\n",
    "    def __init__(self, window, doors, engine, autopoilot):\n",
    "        super().__init__(window, doors, engine, autopoilot)\n",
    "    \n",
    "    def speak(self):\n",
    "        print(\"BMW is speaking\")\n",
    "\n",
    "obj=BMW(4,4,\"electric\",True)\n",
    "obj.speak()\n",
    "obj.drive()\n",
    "obj.autopilot_mode()\n",
    "        \n",
    "    \n",
    "        "
   ]
  },
  {
   "cell_type": "code",
   "execution_count": 3,
   "id": "5f6976c6",
   "metadata": {},
   "outputs": [
    {
     "name": "stdout",
     "output_type": "stream",
     "text": [
      "the care is driving\n"
     ]
    }
   ],
   "source": [
    "car1=Car(4,4,\"electric\")\n",
    "car1.drive()"
   ]
  },
  {
   "cell_type": "code",
   "execution_count": 4,
   "id": "be989b6a",
   "metadata": {},
   "outputs": [
    {
     "name": "stdout",
     "output_type": "stream",
     "text": [
      "the care is driving\n",
      "Autopilot mode is ON\n"
     ]
    }
   ],
   "source": [
    "t1=Tesla(4,4,\"electric\",\"True\")\n",
    "t1.drive()\n",
    "t1.autopilot_mode()"
   ]
  },
  {
   "cell_type": "code",
   "execution_count": 10,
   "id": "f358f3d9",
   "metadata": {},
   "outputs": [
    {
     "name": "stdout",
     "output_type": "stream",
     "text": [
      "animal sound\n",
      "wooof\n",
      "meow\n",
      "wooof\n",
      "None\n"
     ]
    }
   ],
   "source": [
    "#polymorphism\n",
    "\n",
    "class animal:\n",
    "    def sound(self):\n",
    "        print(\"animal sound\")\n",
    "\n",
    "class dog(animal):\n",
    "    def sound(self):\n",
    "        print(\"wooof\")\n",
    "\n",
    "class cat(animal):\n",
    "    def sound(self):\n",
    "        print(\"meow\")\n",
    "\n",
    "def make_sound(animal):\n",
    "    print(animal.sound())\n",
    "\n",
    "a1=animal()\n",
    "a1.sound()\n",
    "dog1=dog()\n",
    "dog1.sound()\n",
    "\n",
    "cat1=cat()\n",
    "cat1.sound()\n",
    "\n",
    "make_sound(dog1)"
   ]
  },
  {
   "cell_type": "code",
   "execution_count": 15,
   "id": "e82e17ba",
   "metadata": {},
   "outputs": [
    {
     "data": {
      "text/plain": [
       "50"
      ]
     },
     "execution_count": 15,
     "metadata": {},
     "output_type": "execute_result"
    }
   ],
   "source": [
    "class shape:\n",
    "    def area(self):\n",
    "        print(\"Calculating area of the shape\")\n",
    "\n",
    "class Rectange(shape):\n",
    "    def __init__(self,length,width):\n",
    "        self.length=length\n",
    "        self.width=width\n",
    "    \n",
    "    def area(self):\n",
    "        return self.length* self.width\n",
    "\n",
    "class Square(shape):\n",
    "    def __init__(self,side):\n",
    "        self.side=side\n",
    "    \n",
    "    def area(self):\n",
    "        return self.side*self.side\n",
    "    \n",
    "def calculate_Area(shape):\n",
    "    return shape.area()\n",
    "\n",
    "\n",
    "r1=Rectange(5,10)\n",
    "calculate_Area(r1)\n",
    "\n",
    "#s1=Square(3)\n",
    "#calculate_Area(s1)"
   ]
  },
  {
   "cell_type": "code",
   "execution_count": 16,
   "id": "9da3ddab",
   "metadata": {},
   "outputs": [
    {
     "name": "stdout",
     "output_type": "stream",
     "text": [
      "calculating the area of the circle\n",
      "calculating the area of the rectange\n"
     ]
    }
   ],
   "source": [
    "#(interfaces) in python abstract base class\n",
    "\n",
    "from abc import ABC, abstractmethod\n",
    "\n",
    "class shape():\n",
    "    @abstractmethod\n",
    "    def area(self):\n",
    "        pass\n",
    "\n",
    "class circle(shape):\n",
    "    def area(self):\n",
    "        print(\"calculating the area of the circle\")\n",
    "\n",
    "class rectange(shape):\n",
    "    def area(self):\n",
    "        print(\"calculating the area of the rectange\")\n",
    "\n",
    "c1=circle()\n",
    "c1.area()\n",
    "\n",
    "r1=rectange()\n",
    "r1.area()"
   ]
  },
  {
   "cell_type": "code",
   "execution_count": null,
   "id": "ac8edaf0",
   "metadata": {},
   "outputs": [],
   "source": []
  }
 ],
 "metadata": {
  "kernelspec": {
   "display_name": "Python 3",
   "language": "python",
   "name": "python3"
  },
  "language_info": {
   "codemirror_mode": {
    "name": "ipython",
    "version": 3
   },
   "file_extension": ".py",
   "mimetype": "text/x-python",
   "name": "python",
   "nbconvert_exporter": "python",
   "pygments_lexer": "ipython3",
   "version": "3.13.2"
  }
 },
 "nbformat": 4,
 "nbformat_minor": 5
}
