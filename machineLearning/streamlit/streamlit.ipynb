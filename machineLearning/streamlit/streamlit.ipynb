{
 "cells": [
  {
   "cell_type": "code",
   "execution_count": null,
   "id": "e3785519",
   "metadata": {},
   "outputs": [],
   "source": [
    "#streamlit is open source app framework for machin elearning and data science\n",
    "#create web application for your machine learning  "
   ]
  },
  {
   "cell_type": "code",
   "execution_count": null,
   "id": "93d06abe",
   "metadata": {},
   "outputs": [],
   "source": []
  }
 ],
 "metadata": {
  "language_info": {
   "name": "python"
  }
 },
 "nbformat": 4,
 "nbformat_minor": 5
}
