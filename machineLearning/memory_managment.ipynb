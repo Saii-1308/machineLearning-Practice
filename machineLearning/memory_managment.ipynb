{
 "cells": [
  {
   "cell_type": "code",
   "execution_count": null,
   "id": "4e1db032",
   "metadata": {},
   "outputs": [],
   "source": [
    "#python memory managmnet"
   ]
  },
  {
   "cell_type": "markdown",
   "id": "9b92771b",
   "metadata": {},
   "source": [
    "#memory managnment in python\n",
    "\n",
    "memory managmnet involve combination of automatic garbage collection ,reference counting,and various internal optimization to efficiently manage memory allocation and deallocation"
   ]
  },
  {
   "cell_type": "code",
   "execution_count": null,
   "id": "7cb0427e",
   "metadata": {},
   "outputs": [],
   "source": [
    "#referencing counting\n",
    "\n",
    "#reference counting is primary method python uses to manage memory.each object in python\n",
    "# maintains a count of reference pointing to it. when the reference count drops to zero the memory occupide by the object is deallocated,"
   ]
  },
  {
   "cell_type": "code",
   "execution_count": null,
   "id": "19655b10",
   "metadata": {},
   "outputs": [
    {
     "name": "stdout",
     "output_type": "stream",
     "text": [
      "2\n"
     ]
    }
   ],
   "source": [
    "import sys# system configuration\n",
    "\n",
    "a=[]\n",
    "# one reference from 'a' and another from getreffont(a)\n",
    "print(sys.getrefcount(a))\n"
   ]
  },
  {
   "cell_type": "code",
   "execution_count": 3,
   "id": "0d535e6a",
   "metadata": {},
   "outputs": [
    {
     "name": "stdout",
     "output_type": "stream",
     "text": [
      "3\n"
     ]
    }
   ],
   "source": [
    "b=a\n",
    "print(sys.getrefcount(a))"
   ]
  },
  {
   "cell_type": "code",
   "execution_count": 4,
   "id": "7616e54b",
   "metadata": {},
   "outputs": [
    {
     "name": "stdout",
     "output_type": "stream",
     "text": [
      "2\n"
     ]
    }
   ],
   "source": [
    "del b\n",
    "print(sys.getrefcount(a))"
   ]
  },
  {
   "cell_type": "markdown",
   "id": "a4942026",
   "metadata": {},
   "source": [
    "###garbage collection\n",
    "python include cyclic grabage collector to handle reference cycle. referenc cycle occure when objects reference each other,preventing their reference count from reaching zero."
   ]
  },
  {
   "cell_type": "code",
   "execution_count": 5,
   "id": "f715e0d7",
   "metadata": {},
   "outputs": [],
   "source": [
    "import gc\n",
    "\n",
    "#enable garbage collection\n",
    "gc.enable()"
   ]
  },
  {
   "cell_type": "code",
   "execution_count": null,
   "id": "04b43691",
   "metadata": {},
   "outputs": [
    {
     "data": {
      "text/plain": [
       "236"
      ]
     },
     "execution_count": 6,
     "metadata": {},
     "output_type": "execute_result"
    }
   ],
   "source": [
    "gc.collect()#collect garbage from the system no of variable are unreachable"
   ]
  },
  {
   "cell_type": "code",
   "execution_count": 7,
   "id": "8698bf17",
   "metadata": {},
   "outputs": [
    {
     "name": "stdout",
     "output_type": "stream",
     "text": [
      "[{'collections': 82, 'collected': 1471, 'uncollectable': 0}, {'collections': 7, 'collected': 374, 'uncollectable': 0}, {'collections': 1, 'collected': 236, 'uncollectable': 0}]\n"
     ]
    }
   ],
   "source": [
    "##get garabge collection states\n",
    "print(gc.get_stats())"
   ]
  },
  {
   "cell_type": "code",
   "execution_count": 8,
   "id": "e3d30eef",
   "metadata": {},
   "outputs": [
    {
     "name": "stdout",
     "output_type": "stream",
     "text": [
      "[]\n"
     ]
    }
   ],
   "source": [
    "print(gc.garbage)"
   ]
  },
  {
   "cell_type": "markdown",
   "id": "2faf15ff",
   "metadata": {},
   "source": [
    "#use local variable\n",
    "#avoid circulance reference\n",
    "#use generator\n",
    "#explicitly delete object\n",
    "#profile memory usages\n"
   ]
  },
  {
   "cell_type": "code",
   "execution_count": null,
   "id": "578d844f",
   "metadata": {},
   "outputs": [
    {
     "name": "stdout",
     "output_type": "stream",
     "text": [
      "object sai is created\n",
      "object jadhav is created\n",
      "object sai deleted\n",
      "object jadhav deleted\n"
     ]
    },
    {
     "data": {
      "text/plain": [
       "370"
      ]
     },
     "execution_count": 9,
     "metadata": {},
     "output_type": "execute_result"
    }
   ],
   "source": [
    "import gc\n",
    "class myobj:\n",
    "    def __init__(self,name):\n",
    "        self.name=name\n",
    "        print(f\"object {self.name} is created\")\n",
    "    \n",
    "    def __del__(self):\n",
    "        print(f\"object {self.name} deleted\")\n",
    "\n",
    "obj1=myobj(\"sai\")\n",
    "obj2=myobj(\"jadhav\")\n",
    "#circular reference\n",
    "obj1.ref=obj2\n",
    "obj2.ref=obj1\n",
    "\n",
    "del obj1\n",
    "del obj2\n",
    "#manually trigger garbage collection\n",
    "gc.collect()\n"
   ]
  },
  {
   "cell_type": "code",
   "execution_count": null,
   "id": "c6230c05",
   "metadata": {},
   "outputs": [
    {
     "name": "stdout",
     "output_type": "stream",
     "text": [
      "0\n",
      "1\n",
      "2\n",
      "3\n",
      "4\n",
      "5\n",
      "6\n",
      "7\n",
      "8\n",
      "9\n",
      "10\n",
      "11\n"
     ]
    }
   ],
   "source": [
    "#generatores for memory effiency\n",
    "#generator allows u to produce otems at a time,using memory effienctly by only keeping one items in memory at a time\n",
    "\n",
    "def generate_num(n):\n",
    "    for i in range(n):\n",
    "        yield i\n",
    "\n",
    "#using generators\n",
    "for num in generate_num(1000):\n",
    "    print(num)\n",
    "    if num>10:\n",
    "        break"
   ]
  },
  {
   "cell_type": "code",
   "execution_count": null,
   "id": "9c306abf",
   "metadata": {},
   "outputs": [],
   "source": [
    "#profileing memory usages with tracemalloc\n",
    "\n",
    "import tracemalloc"
   ]
  }
 ],
 "metadata": {
  "kernelspec": {
   "display_name": "Python 3",
   "language": "python",
   "name": "python3"
  },
  "language_info": {
   "codemirror_mode": {
    "name": "ipython",
    "version": 3
   },
   "file_extension": ".py",
   "mimetype": "text/x-python",
   "name": "python",
   "nbconvert_exporter": "python",
   "pygments_lexer": "ipython3",
   "version": "3.13.2"
  }
 },
 "nbformat": 4,
 "nbformat_minor": 5
}
