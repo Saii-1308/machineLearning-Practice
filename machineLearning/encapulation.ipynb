{
 "cells": [
  {
   "cell_type": "code",
   "execution_count": 6,
   "id": "46233eec",
   "metadata": {},
   "outputs": [
    {
     "data": {
      "text/plain": [
       "'john'"
      ]
     },
     "execution_count": 6,
     "metadata": {},
     "output_type": "execute_result"
    }
   ],
   "source": [
    "#encapulation with getter and setter method\n",
    "#public private and proctected\n",
    "\n",
    "class person:\n",
    "    def __init__(self,name,age):\n",
    "        #public attributed\n",
    "        self.name=name\n",
    "        self.age=age\n",
    "\n",
    "def get_name(person):\n",
    "    return person.name\n",
    "\n",
    "p1=person(\"john\",90)\n",
    "dir(p1)\n",
    "get_name(p1)"
   ]
  },
  {
   "cell_type": "code",
   "execution_count": 8,
   "id": "470f5ccc",
   "metadata": {},
   "outputs": [
    {
     "name": "stdout",
     "output_type": "stream",
     "text": [
      "car is driving\n"
     ]
    }
   ],
   "source": [
    "#privare arttribute\n",
    "\n",
    "class car:\n",
    "    def __init__(self,doors,windows,engine):\n",
    "        self.__doors=doors\n",
    "        self.__windows=windows\n",
    "        self.__engine=engine\n",
    "    def drive(self):\n",
    "        print(\"car is driving\")\n",
    "\n",
    "c1=car(4,4,\"electric\")\n",
    "c1.drive()"
   ]
  },
  {
   "cell_type": "code",
   "execution_count": 19,
   "id": "533184e6",
   "metadata": {},
   "outputs": [
    {
     "name": "stdout",
     "output_type": "stream",
     "text": [
      " Name of student: john, age: 20, id:101\n",
      "name of teacher: jane, age:30 ,id:102 ,subject:math\n"
     ]
    }
   ],
   "source": [
    "#protected attribute\n",
    "\n",
    "class student():\n",
    "    def __init__(self,name,age,id):\n",
    "        self._name=name\n",
    "        self._age=age\n",
    "        self._id=id\n",
    "    \n",
    "    def display(self):\n",
    "        print(f\" Name of student: {self._name}, age: {self._age}, id:{self._id}\")\n",
    "\n",
    "class teacher(student):\n",
    "    def __init__(self,name,age,id,subject):\n",
    "        super().__init__(name,age,id)\n",
    "        self._subject=subject\n",
    "    \n",
    "    def display(self):\n",
    "        print(f\"name of teacher: {self._name}, age:{self._age} ,id:{self._id} ,subject:{self._subject}\")\n",
    "\n",
    "student1=student(\"john\",20,101)\n",
    "student1.display()\n",
    "t1 = teacher(\"jane\", 30, 102, \"math\")\n",
    "t1.display()\n"
   ]
  },
  {
   "cell_type": "code",
   "execution_count": 21,
   "id": "3a91551e",
   "metadata": {},
   "outputs": [
    {
     "name": "stdout",
     "output_type": "stream",
     "text": [
      "age can't be negative\n"
     ]
    }
   ],
   "source": [
    "class person:\n",
    "    def __init__(self,name,age):\n",
    "        self.__name=name\n",
    "        self.__age=age\n",
    "    \n",
    "    def get_name(self):\n",
    "        return self.__name\n",
    "    \n",
    "    def set_name(Self,name):\n",
    "        Self.__name=name\n",
    "    \n",
    "    def get_age(self):\n",
    "        return self.__age\n",
    "    \n",
    "    def set_age(Self,age):\n",
    "        if age<0:\n",
    "            print(\"age can't be negative\")\n",
    "        else:\n",
    "            self.__age=age\n",
    "\n",
    "p1=person(\"john\",90)\n",
    "p1.get_name()\n",
    "p1.set_name(\"jolly\")\n",
    "p1.get_name()\n",
    "p1.get_age()\n",
    "p1.set_age(-10)\n",
    "\n",
    "        \n",
    "\n",
    "    "
   ]
  },
  {
   "cell_type": "code",
   "execution_count": 22,
   "id": "2549cc67",
   "metadata": {},
   "outputs": [
    {
     "name": "stdout",
     "output_type": "stream",
     "text": [
      "meow\n",
      "break\n"
     ]
    }
   ],
   "source": [
    "#abstraction\n",
    "\n",
    "from abc import ABC, abstractmethod\n",
    "\n",
    "class animal(ABC):\n",
    "    @abstractmethod\n",
    "    def sound(self):\n",
    "        pass\n",
    "\n",
    "class cat(animal):\n",
    "    def sound(self):\n",
    "        print(\"meow\")\n",
    "\n",
    "class dog(animal):\n",
    "    def sound(self):\n",
    "        print(\"break\")\n",
    "\n",
    "def make_sound(animal):\n",
    "    animal.sound()\n",
    "\n",
    "c=cat()\n",
    "make_sound(c)\n",
    "\n",
    "d=dog()\n",
    "make_sound(d)"
   ]
  }
 ],
 "metadata": {
  "kernelspec": {
   "display_name": "Python 3",
   "language": "python",
   "name": "python3"
  },
  "language_info": {
   "codemirror_mode": {
    "name": "ipython",
    "version": 3
   },
   "file_extension": ".py",
   "mimetype": "text/x-python",
   "name": "python",
   "nbconvert_exporter": "python",
   "pygments_lexer": "ipython3",
   "version": "3.13.2"
  }
 },
 "nbformat": 4,
 "nbformat_minor": 5
}
