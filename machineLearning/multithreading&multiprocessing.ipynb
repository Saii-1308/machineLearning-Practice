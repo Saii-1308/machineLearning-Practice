{
 "cells": [
  {
   "cell_type": "code",
   "execution_count": null,
   "id": "827409a3",
   "metadata": {},
   "outputs": [],
   "source": [
    "####program---> a program is a sequence of instruction writen i  the programming languge[python,cpp]\n",
    "\n",
    "#examples\n",
    "#google crome-->.exe file<--program-->browser should work.\n",
    "#word,excel\n",
    "\n",
    "\n",
    "####process-->a process is simply an instance of program that is being executed\n",
    "#\n",
    "\n",
    "###Threads--->thread is unit of execution  within process\n",
    "#single thread process-> (thread has it's own stack and register and share code segment,data segment,heap)\n",
    "#multithreaded process-->multiple threads  (thread has it's own stack and register and share code segment,data segment,heap)"
   ]
  },
  {
   "cell_type": "code",
   "execution_count": null,
   "id": "11e160da",
   "metadata": {},
   "outputs": [],
   "source": [
    "#multithreading\n",
    "#when to use multithreading\n",
    "##I/O  BOUND TASK: task that spend more time waiting for I/O operations\n",
    "##concurrent execution : when u want to improve rhe throughput of your application by performing multiple operations concurrently.\n",
    "\n"
   ]
  },
  {
   "cell_type": "code",
   "execution_count": 3,
   "id": "6cc7b360",
   "metadata": {},
   "outputs": [
    {
     "name": "stdout",
     "output_type": "stream",
     "text": [
      "Number:0\n",
      "Number:1\n",
      "Number:2\n",
      "Number:3\n",
      "Number:4\n",
      "latter:a\n",
      "latter:b\n",
      "latter:b\n",
      "latter:a\n",
      "latter:b\n",
      "40.01842164993286\n"
     ]
    }
   ],
   "source": [
    "import threading\n",
    "import time\n",
    "\n",
    "def print_numbers():\n",
    "    for i in range(5):\n",
    "        time.sleep(3)\n",
    "        print(f\"Number:{i}\")\n",
    "\n",
    "def print_latter():\n",
    "    for i in \"abbab\":\n",
    "        time.sleep(5)\n",
    "        print(f\"latter:{i}\")\n",
    "\n",
    "t=time.time()\n",
    "print_numbers()\n",
    "print_latter()\n",
    "finished_time=time.time()-t\n",
    "print(finished_time)\n"
   ]
  },
  {
   "cell_type": "code",
   "execution_count": 6,
   "id": "f5c84e16",
   "metadata": {},
   "outputs": [
    {
     "name": "stdout",
     "output_type": "stream",
     "text": [
      "Number:0latter:a\n",
      "\n",
      "Number:1latter:b\n",
      "\n",
      "latter:b\n",
      "Number:2\n",
      "latter:aNumber:3\n",
      "\n",
      "latter:bNumber:4\n",
      "\n",
      "10.0649893283844\n"
     ]
    }
   ],
   "source": [
    "import threading\n",
    "import time\n",
    "\n",
    "##multithreading\n",
    "\n",
    "def print_numbers():\n",
    "    for i in range(5):\n",
    "        time.sleep(2)\n",
    "        print(f\"Number:{i}\")\n",
    "\n",
    "def print_latter():\n",
    "    for i in \"abbab\":\n",
    "        time.sleep(2)\n",
    "        print(f\"latter:{i}\")\n",
    "\n",
    "#create 2 threads\n",
    "t1=threading.Thread(target=print_numbers)\n",
    "t2=threading.Thread(target=print_latter)\n",
    "\n",
    "\n",
    "t=time.time()\n",
    "#start the thread\n",
    "\n",
    "t1.start()\n",
    "t2.start()\n",
    "\n",
    "##wait for the thread to complete\n",
    "t1.join()\n",
    "t2.join()\n",
    "\n",
    "finished_time=time.time()-t\n",
    "print(finished_time)\n"
   ]
  },
  {
   "cell_type": "code",
   "execution_count": 8,
   "id": "6c8a0e1f",
   "metadata": {},
   "outputs": [
    {
     "name": "stdout",
     "output_type": "stream",
     "text": [
      "finished time 0.34946155548095703\n"
     ]
    }
   ],
   "source": [
    "#multiprocessing ->> process run in prallel\n",
    "##CPU-Bound-Task --->task that are havey on CPU \n",
    "\n",
    "import multiprocessing\n",
    "import multiprocessing.process\n",
    "import time\n",
    "\n",
    "\n",
    "def squareNum():\n",
    "    for i in range(5):\n",
    "        time.sleep(1)\n",
    "        print(f\"square: {i*i}\")\n",
    "\n",
    "def cubeNumber():\n",
    "    for i in range(5):\n",
    "        time.sleep(1.5)\n",
    "        print(f\"cube:{i*i*i}\")\n",
    "\n",
    "\n",
    "if __name__==\"__main__\":\n",
    "\n",
    "    #create the 2 processes\n",
    "    p1 = multiprocessing.Process(target=squareNum)\n",
    "    p2 = multiprocessing.Process(target=cubeNumber)\n",
    "\n",
    "    t=time.time()\n",
    "    #start the process\n",
    "    p1.start()\n",
    "    p2.start()\n",
    "\n",
    "    p1.join()\n",
    "    p2.join()\n",
    "\n",
    "    finished_time=time.time()-t\n",
    "    print(f\"finished time {finished_time}\")\n",
    "\n",
    "\n"
   ]
  },
  {
   "cell_type": "code",
   "execution_count": 24,
   "id": "6f52b059",
   "metadata": {},
   "outputs": [
    {
     "name": "stdout",
     "output_type": "stream",
     "text": [
      "hii0\n",
      "hello0\n",
      "hii1\n",
      "hello1\n",
      "hii2\n",
      "hii3\n",
      "hello2\n",
      "hii4\n",
      "hello3\n",
      "hello4\n",
      "both threads are finished!!\n",
      "finished_time:  15.07166314125061\n"
     ]
    }
   ],
   "source": [
    "import threading \n",
    "import time \n",
    "\n",
    "def hello():\n",
    "    for i in range(5):\n",
    "        time.sleep(3)\n",
    "        print(f\"hello{i}\")\n",
    "\n",
    "def hii():\n",
    "    for i in range(5):\n",
    "        time.sleep(2)\n",
    "        print(f\"hii{i}\")\n",
    "\n",
    "t=time.time()\n",
    "t1=threading.Thread(target=hello)\n",
    "t2=threading.Thread(target=hii)\n",
    "\n",
    "#start the thread\n",
    "t1.start()\n",
    "t2.start()\n",
    "#wait until both program finished execution\n",
    "t1.join()\n",
    "t2.join()\n",
    "\n",
    "print(\"both threads are finished!!\")\n",
    "finished_time=time.time()-t\n",
    "print(\"finished_time: \",finished_time)"
   ]
  },
  {
   "cell_type": "code",
   "execution_count": 27,
   "id": "712c38f4",
   "metadata": {},
   "outputs": [
    {
     "name": "stdout",
     "output_type": "stream",
     "text": [
      "both process are complete execution\n"
     ]
    }
   ],
   "source": [
    "import multiprocessing\n",
    "import multiprocessing.process\n",
    "import time\n",
    "\n",
    "def hello():\n",
    "    for i in range(5):\n",
    "        time.sleep(3)\n",
    "        print(f\"hello{i}\")\n",
    "\n",
    "def hii():\n",
    "    for i in range(5):\n",
    "        time.sleep(2)\n",
    "        print(f\"hii{i}\")\n",
    "\n",
    "p1=multiprocessing.Process(target=hello)\n",
    "p2=multiprocessing.Process(target=hii)\n",
    "\n",
    "p1.start()\n",
    "p2.start()\n",
    "\n",
    "p1.join()\n",
    "p2.join()\n",
    "\n",
    "print(\"both process are complete execution\")\n",
    "\n",
    "\n"
   ]
  },
  {
   "cell_type": "code",
   "execution_count": null,
   "id": "07aa3a8a",
   "metadata": {},
   "outputs": [
    {
     "name": "stdout",
     "output_type": "stream",
     "text": [
      "Number :1\n",
      "Number :2\n",
      "Number :3\n",
      "Number :4\n",
      "Number :5\n",
      "Number :6\n",
      "Number :7\n",
      "Number :8\n",
      "Number :9\n",
      "Number :0\n",
      "Number :1\n",
      "Number :2\n",
      "Number :3\n",
      "Number :4\n"
     ]
    }
   ],
   "source": [
    "#multithreading with thread pool executor\n",
    "'''Multithreading with ThreadPoolExecutor means running multiple tasks (functions) at the same time using threads, managed by a thread pool.\n",
    "\n",
    "ThreadPoolExecutor is a class from Python’s concurrent.futures module.\n",
    "It creates a pool of worker threads.\n",
    "You submit tasks to the pool, and the pool assigns them to available threads.\n",
    "This makes it easy to run many tasks in parallel, especially for I/O-bound operations.'''\n",
    "from concurrent.futures import ThreadPoolExecutor\n",
    "import time\n",
    "\n",
    "\n",
    "def print_number(number):\n",
    "    time.sleep(1)\n",
    "    return f\"Number :{number}\"\n",
    "\n",
    "number=[1,2,3,4,5,6,7,8,9,0,1,2,3,4]\n",
    "\n",
    "with ThreadPoolExecutor(max_workers=3) as executor:\n",
    "    result=executor.map(print_number,number)\n",
    "\n",
    "for re in result:\n",
    "    print(re)\n",
    "    "
   ]
  },
  {
   "cell_type": "code",
   "execution_count": 21,
   "id": "3d58c4dc",
   "metadata": {},
   "outputs": [],
   "source": [
    "def square(number):\n",
    "    time.sleep(3)\n",
    "    return f\"square{number*number}\""
   ]
  },
  {
   "cell_type": "code",
   "execution_count": 22,
   "id": "93f1054b",
   "metadata": {},
   "outputs": [
    {
     "name": "stdout",
     "output_type": "stream",
     "text": [
      "square1\n",
      "square4\n",
      "square9\n",
      "square16\n",
      "square25\n"
     ]
    }
   ],
   "source": [
    "##multithreading with ThreadPoolExecutor (works in Jupyter)\n",
    "\n",
    "from concurrent.futures import ThreadPoolExecutor\n",
    "import time\n",
    "\n",
    "# 'square' is already defined at the top level in another cell\n",
    "\n",
    "number = [1, 2, 3, 4, 5]\n",
    "\n",
    "with ThreadPoolExecutor(max_workers=3) as executor:\n",
    "    result = executor.map(square, number)\n",
    "\n",
    "for re in result:\n",
    "    print(re)"
   ]
  },
  {
   "cell_type": "code",
   "execution_count": null,
   "id": "064ab2c3",
   "metadata": {},
   "outputs": [
    {
     "name": "stdout",
     "output_type": "stream",
     "text": [
      "featch 3333 characters from https://docs.smith.langchain.com/\n",
      "featch 9180 characters from https://js.langchain.com/docs/introduction/\n",
      "featch 3790 characters from https://blog.langchain.com/\n",
      "all web pages fetch!!\n"
     ]
    }
   ],
   "source": [
    "#multithreading web scraping\n",
    "\n",
    "'''\n",
    "https://docs.smith.langchain.com/\n",
    "https://blog.langchain.com/\n",
    "https://js.langchain.com/docs/introduction/\n",
    "'''\n",
    "\n",
    "import threading \n",
    "import requests\n",
    "\n",
    "from bs4 import BeautifulSoup  #help to extract the data from the web pages\n",
    "\n",
    "urls=[\n",
    "'https://docs.smith.langchain.com/',\n",
    "'https://blog.langchain.com/',\n",
    "'https://js.langchain.com/docs/introduction/'\n",
    "]\n",
    "\n",
    "def fetch_content(url):\n",
    "    response=requests.get(url)\n",
    "    soup=BeautifulSoup(response.content,'html.parser')\n",
    "    print(f'featch {len(soup.text)} characters from {url}')\n",
    "\n",
    "threads=[]\n",
    "\n",
    "for url in urls:\n",
    "    thread=threading.Thread(target=fetch_content,args=(url,))\n",
    "    threads.append(thread)\n",
    "    thread.start()\n",
    "\n",
    "for thread in threads:\n",
    "    thread.join()\n",
    "\n",
    "print(\"all web pages fetch!!\")\n",
    " \n"
   ]
  },
  {
   "cell_type": "code",
   "execution_count": null,
   "id": "75e195a9",
   "metadata": {},
   "outputs": [
    {
     "ename": "AttributeError",
     "evalue": "module 'multiprocessing' has no attribute 'pool'",
     "output_type": "error",
     "traceback": [
      "\u001b[31m---------------------------------------------------------------------------\u001b[39m",
      "\u001b[31mAttributeError\u001b[39m                            Traceback (most recent call last)",
      "\u001b[36mCell\u001b[39m\u001b[36m \u001b[39m\u001b[32mIn[6]\u001b[39m\u001b[32m, line 27\u001b[39m\n\u001b[32m     23\u001b[39m numbers=[\u001b[32m5000\u001b[39m,\u001b[32m6000\u001b[39m,\u001b[32m700\u001b[39m,\u001b[32m8000\u001b[39m]\n\u001b[32m     25\u001b[39m start_time=time.time()\n\u001b[32m---> \u001b[39m\u001b[32m27\u001b[39m \u001b[38;5;28;01mwith\u001b[39;00m \u001b[43mmultiprocessing\u001b[49m\u001b[43m.\u001b[49m\u001b[43mpool\u001b[49m \u001b[38;5;28;01mas\u001b[39;00m pool:\n\u001b[32m     28\u001b[39m     result=pool.map(compute_factorial,numbers)\n\u001b[32m     30\u001b[39m end_time=time.time()\n",
      "\u001b[31mAttributeError\u001b[39m: module 'multiprocessing' has no attribute 'pool'"
     ]
    }
   ],
   "source": [
    "#multiprocessing fro CPU-bound Tasks\n",
    "#factorial calculation\n",
    "\n",
    "import multiprocessing\n",
    "import math\n",
    "import sys\n",
    "import time\n",
    "\n",
    "#increase the maximum number of digits for integer conversion\n",
    "sys.set_int_max_str_digits(1000000)\n",
    "\n",
    "\n",
    "#function to compute factorial of a given number\n",
    "\n",
    "def compute_factorial(number):\n",
    "    print(f\"Computing Factorial of {number}\")\n",
    "    result=math.factorial(number)\n",
    "    print(f\"factorial of {number} is {result}\")\n",
    "    return result\n",
    "\n",
    "if __name__==\"__main__\":\n",
    "    numbers=[5000,6000,700,8000]\n",
    "\n",
    "    start_time=time.time()\n",
    "\n",
    "    with multiprocessing.pool as pool:\n",
    "        result=pool.map(compute_factorial,numbers)\n",
    "\n",
    "    end_time=time.time()\n"
   ]
  }
 ],
 "metadata": {
  "kernelspec": {
   "display_name": "Python 3",
   "language": "python",
   "name": "python3"
  },
  "language_info": {
   "codemirror_mode": {
    "name": "ipython",
    "version": 3
   },
   "file_extension": ".py",
   "mimetype": "text/x-python",
   "name": "python",
   "nbconvert_exporter": "python",
   "pygments_lexer": "ipython3",
   "version": "3.13.2"
  }
 },
 "nbformat": 4,
 "nbformat_minor": 5
}
