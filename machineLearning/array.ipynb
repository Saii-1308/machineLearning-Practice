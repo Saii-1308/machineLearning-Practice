{
 "cells": [
  {
   "cell_type": "code",
   "execution_count": 1,
   "id": "68b780fd",
   "metadata": {},
   "outputs": [
    {
     "name": "stdout",
     "output_type": "stream",
     "text": [
      "array('f', [1.2000000476837158, 23.399999618530273, 56.20000076293945, 34.66999816894531, 34.12300109863281])\n"
     ]
    }
   ],
   "source": [
    "import array\n",
    "arr=array.array('f',[1.2,23.4,56.2,34.67,34.123])\n",
    "print(arr)"
   ]
  },
  {
   "cell_type": "code",
   "execution_count": 2,
   "id": "2ddf99b9",
   "metadata": {},
   "outputs": [
    {
     "data": {
      "text/plain": [
       "array.array"
      ]
     },
     "execution_count": 2,
     "metadata": {},
     "output_type": "execute_result"
    }
   ],
   "source": [
    "type(arr)"
   ]
  },
  {
   "cell_type": "code",
   "execution_count": 3,
   "id": "950ecb1b",
   "metadata": {},
   "outputs": [
    {
     "data": {
      "text/plain": [
       "4.795831523312719"
      ]
     },
     "execution_count": 3,
     "metadata": {},
     "output_type": "execute_result"
    }
   ],
   "source": [
    "import math\n",
    "math.sqrt(23)"
   ]
  },
  {
   "cell_type": "code",
   "execution_count": null,
   "id": "13adef41",
   "metadata": {},
   "outputs": [
    {
     "name": "stdout",
     "output_type": "stream",
     "text": [
      "20\n",
      "56.20000076293945\n"
     ]
    }
   ],
   "source": [
    "#random library example\n",
    "#at every time we run it give unique any random value\n",
    "\n",
    "import random\n",
    "print(random.randint(1,100))#return any random number between 1 to 100\n",
    "print(random.choice(arr))#take 1 value from the array "
   ]
  },
  {
   "cell_type": "code",
   "execution_count": 1,
   "id": "d6b3e63c",
   "metadata": {},
   "outputs": [
    {
     "name": "stdout",
     "output_type": "stream",
     "text": [
      "c:\\Users\\jadha\\OneDrive\\Desktop\\machineLearning\n"
     ]
    }
   ],
   "source": [
    "#file and directory access\n",
    "#os library\n",
    "import os\n",
    "print(os.getcwd())"
   ]
  },
  {
   "cell_type": "code",
   "execution_count": 2,
   "id": "d39cc364",
   "metadata": {},
   "outputs": [],
   "source": [
    "os.mkdir(\"newdir\")"
   ]
  },
  {
   "cell_type": "code",
   "execution_count": 3,
   "id": "b6761055",
   "metadata": {},
   "outputs": [
    {
     "data": {
      "text/plain": [
       "'destination.txt'"
      ]
     },
     "execution_count": 3,
     "metadata": {},
     "output_type": "execute_result"
    }
   ],
   "source": [
    "#high level file operation \n",
    "\n",
    "import shutil\n",
    "shutil.copy(\"source.txt\",\"destination.txt\")"
   ]
  },
  {
   "cell_type": "code",
   "execution_count": null,
   "id": "87b00adf",
   "metadata": {},
   "outputs": [
    {
     "name": "stdout",
     "output_type": "stream",
     "text": [
      "{\"name\": \"sai\", \"age\": 78}\n",
      "<class 'str'>\n"
     ]
    }
   ],
   "source": [
    "#data  serialization\n",
    "import json\n",
    "data={'name':\"sai\",'age':78}\n",
    "\n",
    "json_str=json.dumps(data)#convert python object into json string\n",
    "print(json_str)\n",
    "print(type(json_str))"
   ]
  },
  {
   "cell_type": "code",
   "execution_count": null,
   "id": "4255f9d6",
   "metadata": {},
   "outputs": [
    {
     "name": "stdout",
     "output_type": "stream",
     "text": [
      "{'name': 'sai', 'age': 78}\n",
      "<class 'dict'>\n"
     ]
    }
   ],
   "source": [
    "json_dic=json.loads(json_str)#convert string into python object\n",
    "print(json_dic)\n",
    "print(type(json_dic))"
   ]
  },
  {
   "cell_type": "code",
   "execution_count": 6,
   "id": "cb01fb33",
   "metadata": {},
   "outputs": [],
   "source": [
    "#csv  --->> create the new csv file and write the data into it\n",
    "import csv\n",
    "with open(\"data.csv\",mode='w',newline='') as file:\n",
    "    writer=csv.writer(file)\n",
    "    writer.writerow([\"name\",\"age\"])\n",
    "    writer.writerow([\"sai\",20])"
   ]
  },
  {
   "cell_type": "code",
   "execution_count": 7,
   "id": "1a39813f",
   "metadata": {},
   "outputs": [
    {
     "name": "stdout",
     "output_type": "stream",
     "text": [
      "['name', 'age']\n",
      "['sai', '20']\n"
     ]
    }
   ],
   "source": [
    "with open(\"data.csv\",mode=\"r\") as file:\n",
    "    reader=csv.reader(file)\n",
    "    for row in reader:\n",
    "        print(row)"
   ]
  },
  {
   "cell_type": "code",
   "execution_count": 12,
   "id": "ab213f20",
   "metadata": {},
   "outputs": [
    {
     "name": "stdout",
     "output_type": "stream",
     "text": [
      "2025-07-02 20:55:07.104448\n",
      "2025-07-01 20:55:07.104448\n"
     ]
    }
   ],
   "source": [
    "#datetime library\n",
    "from datetime import datetime, timedelta\n",
    "now=datetime.now()\n",
    "print(now)\n",
    "#print(now.year)\n",
    "#print(now.month)\n",
    "\n",
    "yestarday=now-timedelta(days=1)\n",
    "\n",
    "print(yestarday)"
   ]
  },
  {
   "cell_type": "code",
   "execution_count": 14,
   "id": "8d90d591",
   "metadata": {},
   "outputs": [
    {
     "name": "stdout",
     "output_type": "stream",
     "text": [
      "1751469995.441511\n",
      "1751469997.4429696\n"
     ]
    }
   ],
   "source": [
    "#time \n",
    "import time\n",
    "print(time.time())\n",
    "time.sleep(2)\n",
    "print(time.time())"
   ]
  },
  {
   "cell_type": "code",
   "execution_count": 18,
   "id": "d30c24d0",
   "metadata": {},
   "outputs": [
    {
     "name": "stdout",
     "output_type": "stream",
     "text": [
      "123\n"
     ]
    }
   ],
   "source": [
    "#regular expression\n",
    "import re\n",
    "\n",
    "pattern=r'\\d+'\n",
    "text='there are 123 apple and 456 oranges'\n",
    "mathc=re.search(pattern,text)\n",
    "print(mathc.group())\n"
   ]
  }
 ],
 "metadata": {
  "kernelspec": {
   "display_name": "Python 3",
   "language": "python",
   "name": "python3"
  },
  "language_info": {
   "codemirror_mode": {
    "name": "ipython",
    "version": 3
   },
   "file_extension": ".py",
   "mimetype": "text/x-python",
   "name": "python",
   "nbconvert_exporter": "python",
   "pygments_lexer": "ipython3",
   "version": "3.13.2"
  }
 },
 "nbformat": 4,
 "nbformat_minor": 5
}
