{
 "cells": [
  {
   "cell_type": "code",
   "execution_count": 2,
   "id": "a60c9f85",
   "metadata": {},
   "outputs": [],
   "source": [
    "import cv2"
   ]
  },
  {
   "cell_type": "code",
   "execution_count": null,
   "id": "83509f5f",
   "metadata": {},
   "outputs": [],
   "source": [
    "import cv2\n",
    "\n",
    "face_cascade = cv2.CascadeClassifier(cv2.data.haarcascades + 'haarcascade_frontalface_default.xml')#lode pre-train face detection model\n",
    "cap = cv2.VideoCapture(0)#capture video 1->external camera 0->laptop or mobile camera default\n",
    "\n",
    "while True:\n",
    "    ret, frame = cap.read()\n",
    "    gray = cv2.cvtColor(frame, cv2.COLOR_BGR2GRAY)#chnage image video in balck white color because muscles are see in black white\n",
    "    #face detection don't need the color it use only pattern and shape \n",
    "    #and above pretrain model train on grayscale data it save time and emory\n",
    "\n",
    "    faces = face_cascade.detectMultiScale(gray, 1.1, 4)#gray->input image 1.1->scale factor 4->neighbors\n",
    "\n",
    "    for (x, y, w, h) in faces:#to make box around face\n",
    "        cv2.rectangle(frame, (x, y), (x+w, y+h), (255, 0, 0), 2)#top left corner,bottom right cornor color o box thickness of line\n",
    "\n",
    "    cv2.imshow('Face Detection', frame)#show video frame\n",
    "\n",
    "    if cv2.waitKey(1) & 0xFF == ord('q'):\n",
    "        break\n",
    "\n",
    "cap.release()\n",
    "cv2.destroyAllWindows()\n"
   ]
  }
 ],
 "metadata": {
  "kernelspec": {
   "display_name": "Python 3",
   "language": "python",
   "name": "python3"
  },
  "language_info": {
   "codemirror_mode": {
    "name": "ipython",
    "version": 3
   },
   "file_extension": ".py",
   "mimetype": "text/x-python",
   "name": "python",
   "nbconvert_exporter": "python",
   "pygments_lexer": "ipython3",
   "version": "3.13.2"
  }
 },
 "nbformat": 4,
 "nbformat_minor": 5
}
