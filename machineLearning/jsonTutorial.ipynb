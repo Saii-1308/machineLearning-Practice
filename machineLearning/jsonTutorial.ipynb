{
 "cells": [
  {
   "cell_type": "code",
   "execution_count": 7,
   "id": "833541b4",
   "metadata": {},
   "outputs": [],
   "source": [
    "from io import StringIO \n",
    "import pandas as pd"
   ]
  },
  {
   "cell_type": "code",
   "execution_count": null,
   "id": "3ab1d709",
   "metadata": {},
   "outputs": [
    {
     "name": "stderr",
     "output_type": "stream",
     "text": [
      "C:\\Users\\jadha\\AppData\\Local\\Temp\\ipykernel_25244\\4062512338.py:2: FutureWarning: Passing literal json to 'read_json' is deprecated and will be removed in a future version. To read from a literal string, wrap it in a 'StringIO' object.\n",
      "  df=pd.read_json(data)\n"
     ]
    },
    {
     "data": {
      "text/html": [
       "<div>\n",
       "<style scoped>\n",
       "    .dataframe tbody tr th:only-of-type {\n",
       "        vertical-align: middle;\n",
       "    }\n",
       "\n",
       "    .dataframe tbody tr th {\n",
       "        vertical-align: top;\n",
       "    }\n",
       "\n",
       "    .dataframe thead th {\n",
       "        text-align: right;\n",
       "    }\n",
       "</style>\n",
       "<table border=\"1\" class=\"dataframe\">\n",
       "  <thead>\n",
       "    <tr style=\"text-align: right;\">\n",
       "      <th></th>\n",
       "      <th>employee_name</th>\n",
       "      <th>email</th>\n",
       "      <th>job_profile</th>\n",
       "    </tr>\n",
       "  </thead>\n",
       "  <tbody>\n",
       "    <tr>\n",
       "      <th>0</th>\n",
       "      <td>sai jadhav</td>\n",
       "      <td>jadhavsai299@gmail.com</td>\n",
       "      <td>{'titke1': 'Team Lead', 'title2': 'software de...</td>\n",
       "    </tr>\n",
       "  </tbody>\n",
       "</table>\n",
       "</div>"
      ],
      "text/plain": [
       "  employee_name                   email  \\\n",
       "0    sai jadhav  jadhavsai299@gmail.com   \n",
       "\n",
       "                                         job_profile  \n",
       "0  {'titke1': 'Team Lead', 'title2': 'software de...  "
      ]
     },
     "execution_count": 8,
     "metadata": {},
     "output_type": "execute_result"
    }
   ],
   "source": [
    "#convert json data into dataframe\n",
    "data = '{\"employee_name\":\"sai jadhav\",\"email\":\"jadhavsai299@gmail.com\", \"job_profile\":[{\"titke1\":\"Team Lead\",\"title2\":\"software developer\",\"title3\":\"HR manager\"}]}'\n",
    "df=pd.read_json(data)\n",
    "df"
   ]
  },
  {
   "cell_type": "code",
   "execution_count": null,
   "id": "e81c418a",
   "metadata": {},
   "outputs": [
    {
     "data": {
      "text/plain": [
       "'{\"employee_name\":{\"0\":\"sai jadhav\"},\"email\":{\"0\":\"jadhavsai299@gmail.com\"},\"job_profile\":{\"0\":{\"titke1\":\"Team Lead\",\"title2\":\"software developer\",\"title3\":\"HR manager\"}}}'"
      ]
     },
     "execution_count": 9,
     "metadata": {},
     "output_type": "execute_result"
    }
   ],
   "source": [
    "df.to_json()#convert dataframe into json"
   ]
  },
  {
   "cell_type": "code",
   "execution_count": null,
   "id": "480848eb",
   "metadata": {},
   "outputs": [
    {
     "data": {
      "text/plain": [
       "'{\"0\":{\"employee_name\":\"sai jadhav\",\"email\":\"jadhavsai299@gmail.com\",\"job_profile\":{\"titke1\":\"Team Lead\",\"title2\":\"software developer\",\"title3\":\"HR manager\"}}}'"
      ]
     },
     "execution_count": 10,
     "metadata": {},
     "output_type": "execute_result"
    }
   ],
   "source": [
    "df.to_json(orient='index')#index is bydefault"
   ]
  },
  {
   "cell_type": "code",
   "execution_count": 11,
   "id": "f9527b41",
   "metadata": {},
   "outputs": [
    {
     "data": {
      "text/plain": [
       "'[{\"employee_name\":\"sai jadhav\",\"email\":\"jadhavsai299@gmail.com\",\"job_profile\":{\"titke1\":\"Team Lead\",\"title2\":\"software developer\",\"title3\":\"HR manager\"}}]'"
      ]
     },
     "execution_count": 11,
     "metadata": {},
     "output_type": "execute_result"
    }
   ],
   "source": [
    "df.to_json(orient='records')"
   ]
  },
  {
   "cell_type": "code",
   "execution_count": null,
   "id": "1a135cc9",
   "metadata": {},
   "outputs": [],
   "source": [
    "#read data from url of csv file\n",
    "\n",
    "\n",
    "df1=pd.read_csv(\"https://people.sc.fsu.edu/~jburkardt/data/csv/airtravel.csv\")"
   ]
  },
  {
   "cell_type": "code",
   "execution_count": 14,
   "id": "209b2a2f",
   "metadata": {},
   "outputs": [
    {
     "data": {
      "text/html": [
       "<div>\n",
       "<style scoped>\n",
       "    .dataframe tbody tr th:only-of-type {\n",
       "        vertical-align: middle;\n",
       "    }\n",
       "\n",
       "    .dataframe tbody tr th {\n",
       "        vertical-align: top;\n",
       "    }\n",
       "\n",
       "    .dataframe thead th {\n",
       "        text-align: right;\n",
       "    }\n",
       "</style>\n",
       "<table border=\"1\" class=\"dataframe\">\n",
       "  <thead>\n",
       "    <tr style=\"text-align: right;\">\n",
       "      <th></th>\n",
       "      <th>Month</th>\n",
       "      <th>\"1958\"</th>\n",
       "      <th>\"1959\"</th>\n",
       "      <th>\"1960\"</th>\n",
       "    </tr>\n",
       "  </thead>\n",
       "  <tbody>\n",
       "    <tr>\n",
       "      <th>0</th>\n",
       "      <td>JAN</td>\n",
       "      <td>340</td>\n",
       "      <td>360</td>\n",
       "      <td>417</td>\n",
       "    </tr>\n",
       "    <tr>\n",
       "      <th>1</th>\n",
       "      <td>FEB</td>\n",
       "      <td>318</td>\n",
       "      <td>342</td>\n",
       "      <td>391</td>\n",
       "    </tr>\n",
       "    <tr>\n",
       "      <th>2</th>\n",
       "      <td>MAR</td>\n",
       "      <td>362</td>\n",
       "      <td>406</td>\n",
       "      <td>419</td>\n",
       "    </tr>\n",
       "    <tr>\n",
       "      <th>3</th>\n",
       "      <td>APR</td>\n",
       "      <td>348</td>\n",
       "      <td>396</td>\n",
       "      <td>461</td>\n",
       "    </tr>\n",
       "    <tr>\n",
       "      <th>4</th>\n",
       "      <td>MAY</td>\n",
       "      <td>363</td>\n",
       "      <td>420</td>\n",
       "      <td>472</td>\n",
       "    </tr>\n",
       "  </tbody>\n",
       "</table>\n",
       "</div>"
      ],
      "text/plain": [
       "  Month   \"1958\"   \"1959\"   \"1960\"\n",
       "0   JAN      340      360      417\n",
       "1   FEB      318      342      391\n",
       "2   MAR      362      406      419\n",
       "3   APR      348      396      461\n",
       "4   MAY      363      420      472"
      ]
     },
     "execution_count": 14,
     "metadata": {},
     "output_type": "execute_result"
    }
   ],
   "source": [
    "df1.head(5)"
   ]
  },
  {
   "cell_type": "code",
   "execution_count": 15,
   "id": "4d528f54",
   "metadata": {},
   "outputs": [],
   "source": [
    "df1.to_csv('airtravel.csv')"
   ]
  },
  {
   "cell_type": "code",
   "execution_count": 18,
   "id": "9a711266",
   "metadata": {},
   "outputs": [],
   "source": [
    "#read data from the html file\n",
    "\n",
    "url='https://www.fdic.gov/resources/resolutions/bank-failures/failed-bank-list'\n",
    "df2=pd.read_html(url)"
   ]
  },
  {
   "cell_type": "code",
   "execution_count": 20,
   "id": "0972b52c",
   "metadata": {},
   "outputs": [
    {
     "data": {
      "text/plain": [
       "[                               Bank Name           City         State   Cert  \\\n",
       " 0           The Santa Anna National Bank     Santa Anna         Texas   5520   \n",
       " 1                   Pulaski Savings Bank        Chicago      Illinois  28611   \n",
       " 2     The First National Bank of Lindsay        Lindsay      Oklahoma   4134   \n",
       " 3  Republic First Bank dba Republic Bank   Philadelphia  Pennsylvania  27332   \n",
       " 4                          Citizens Bank       Sac City          Iowa   8758   \n",
       " 5               Heartland Tri-State Bank        Elkhart        Kansas  25851   \n",
       " 6                    First Republic Bank  San Francisco    California  59017   \n",
       " 7                         Signature Bank       New York      New York  57053   \n",
       " 8                    Silicon Valley Bank    Santa Clara    California  24735   \n",
       " 9                      Almena State Bank         Almena        Kansas  15426   \n",
       " \n",
       "                  Acquiring Institution      Closing Date  Fund  Sort ascending  \n",
       " 0            Coleman County State Bank     June 27, 2025                 10549  \n",
       " 1                      Millennium Bank  January 17, 2025                 10548  \n",
       " 2   First Bank & Trust Co., Duncan, OK  October 18, 2024                 10547  \n",
       " 3    Fulton Bank, National Association    April 26, 2024                 10546  \n",
       " 4            Iowa Trust & Savings Bank  November 3, 2023                 10545  \n",
       " 5               Dream First Bank, N.A.     July 28, 2023                 10544  \n",
       " 6            JPMorgan Chase Bank, N.A.       May 1, 2023                 10543  \n",
       " 7                  Flagstar Bank, N.A.    March 12, 2023                 10540  \n",
       " 8  First Citizens Bank & Trust Company    March 10, 2023                 10539  \n",
       " 9                          Equity Bank  October 23, 2020                 10538  ]"
      ]
     },
     "execution_count": 20,
     "metadata": {},
     "output_type": "execute_result"
    }
   ],
   "source": [
    "df2"
   ]
  },
  {
   "cell_type": "code",
   "execution_count": 21,
   "id": "08680bd6",
   "metadata": {},
   "outputs": [
    {
     "data": {
      "text/html": [
       "<div>\n",
       "<style scoped>\n",
       "    .dataframe tbody tr th:only-of-type {\n",
       "        vertical-align: middle;\n",
       "    }\n",
       "\n",
       "    .dataframe tbody tr th {\n",
       "        vertical-align: top;\n",
       "    }\n",
       "\n",
       "    .dataframe thead th {\n",
       "        text-align: right;\n",
       "    }\n",
       "</style>\n",
       "<table border=\"1\" class=\"dataframe\">\n",
       "  <thead>\n",
       "    <tr style=\"text-align: right;\">\n",
       "      <th></th>\n",
       "      <th>Bank Name</th>\n",
       "      <th>City</th>\n",
       "      <th>State</th>\n",
       "      <th>Cert</th>\n",
       "      <th>Acquiring Institution</th>\n",
       "      <th>Closing Date</th>\n",
       "      <th>Fund  Sort ascending</th>\n",
       "    </tr>\n",
       "  </thead>\n",
       "  <tbody>\n",
       "    <tr>\n",
       "      <th>0</th>\n",
       "      <td>The Santa Anna National Bank</td>\n",
       "      <td>Santa Anna</td>\n",
       "      <td>Texas</td>\n",
       "      <td>5520</td>\n",
       "      <td>Coleman County State Bank</td>\n",
       "      <td>June 27, 2025</td>\n",
       "      <td>10549</td>\n",
       "    </tr>\n",
       "    <tr>\n",
       "      <th>1</th>\n",
       "      <td>Pulaski Savings Bank</td>\n",
       "      <td>Chicago</td>\n",
       "      <td>Illinois</td>\n",
       "      <td>28611</td>\n",
       "      <td>Millennium Bank</td>\n",
       "      <td>January 17, 2025</td>\n",
       "      <td>10548</td>\n",
       "    </tr>\n",
       "    <tr>\n",
       "      <th>2</th>\n",
       "      <td>The First National Bank of Lindsay</td>\n",
       "      <td>Lindsay</td>\n",
       "      <td>Oklahoma</td>\n",
       "      <td>4134</td>\n",
       "      <td>First Bank &amp; Trust Co., Duncan, OK</td>\n",
       "      <td>October 18, 2024</td>\n",
       "      <td>10547</td>\n",
       "    </tr>\n",
       "    <tr>\n",
       "      <th>3</th>\n",
       "      <td>Republic First Bank dba Republic Bank</td>\n",
       "      <td>Philadelphia</td>\n",
       "      <td>Pennsylvania</td>\n",
       "      <td>27332</td>\n",
       "      <td>Fulton Bank, National Association</td>\n",
       "      <td>April 26, 2024</td>\n",
       "      <td>10546</td>\n",
       "    </tr>\n",
       "    <tr>\n",
       "      <th>4</th>\n",
       "      <td>Citizens Bank</td>\n",
       "      <td>Sac City</td>\n",
       "      <td>Iowa</td>\n",
       "      <td>8758</td>\n",
       "      <td>Iowa Trust &amp; Savings Bank</td>\n",
       "      <td>November 3, 2023</td>\n",
       "      <td>10545</td>\n",
       "    </tr>\n",
       "    <tr>\n",
       "      <th>5</th>\n",
       "      <td>Heartland Tri-State Bank</td>\n",
       "      <td>Elkhart</td>\n",
       "      <td>Kansas</td>\n",
       "      <td>25851</td>\n",
       "      <td>Dream First Bank, N.A.</td>\n",
       "      <td>July 28, 2023</td>\n",
       "      <td>10544</td>\n",
       "    </tr>\n",
       "    <tr>\n",
       "      <th>6</th>\n",
       "      <td>First Republic Bank</td>\n",
       "      <td>San Francisco</td>\n",
       "      <td>California</td>\n",
       "      <td>59017</td>\n",
       "      <td>JPMorgan Chase Bank, N.A.</td>\n",
       "      <td>May 1, 2023</td>\n",
       "      <td>10543</td>\n",
       "    </tr>\n",
       "    <tr>\n",
       "      <th>7</th>\n",
       "      <td>Signature Bank</td>\n",
       "      <td>New York</td>\n",
       "      <td>New York</td>\n",
       "      <td>57053</td>\n",
       "      <td>Flagstar Bank, N.A.</td>\n",
       "      <td>March 12, 2023</td>\n",
       "      <td>10540</td>\n",
       "    </tr>\n",
       "    <tr>\n",
       "      <th>8</th>\n",
       "      <td>Silicon Valley Bank</td>\n",
       "      <td>Santa Clara</td>\n",
       "      <td>California</td>\n",
       "      <td>24735</td>\n",
       "      <td>First Citizens Bank &amp; Trust Company</td>\n",
       "      <td>March 10, 2023</td>\n",
       "      <td>10539</td>\n",
       "    </tr>\n",
       "    <tr>\n",
       "      <th>9</th>\n",
       "      <td>Almena State Bank</td>\n",
       "      <td>Almena</td>\n",
       "      <td>Kansas</td>\n",
       "      <td>15426</td>\n",
       "      <td>Equity Bank</td>\n",
       "      <td>October 23, 2020</td>\n",
       "      <td>10538</td>\n",
       "    </tr>\n",
       "  </tbody>\n",
       "</table>\n",
       "</div>"
      ],
      "text/plain": [
       "                               Bank Name           City         State   Cert  \\\n",
       "0           The Santa Anna National Bank     Santa Anna         Texas   5520   \n",
       "1                   Pulaski Savings Bank        Chicago      Illinois  28611   \n",
       "2     The First National Bank of Lindsay        Lindsay      Oklahoma   4134   \n",
       "3  Republic First Bank dba Republic Bank   Philadelphia  Pennsylvania  27332   \n",
       "4                          Citizens Bank       Sac City          Iowa   8758   \n",
       "5               Heartland Tri-State Bank        Elkhart        Kansas  25851   \n",
       "6                    First Republic Bank  San Francisco    California  59017   \n",
       "7                         Signature Bank       New York      New York  57053   \n",
       "8                    Silicon Valley Bank    Santa Clara    California  24735   \n",
       "9                      Almena State Bank         Almena        Kansas  15426   \n",
       "\n",
       "                 Acquiring Institution      Closing Date  Fund  Sort ascending  \n",
       "0            Coleman County State Bank     June 27, 2025                 10549  \n",
       "1                      Millennium Bank  January 17, 2025                 10548  \n",
       "2   First Bank & Trust Co., Duncan, OK  October 18, 2024                 10547  \n",
       "3    Fulton Bank, National Association    April 26, 2024                 10546  \n",
       "4            Iowa Trust & Savings Bank  November 3, 2023                 10545  \n",
       "5               Dream First Bank, N.A.     July 28, 2023                 10544  \n",
       "6            JPMorgan Chase Bank, N.A.       May 1, 2023                 10543  \n",
       "7                  Flagstar Bank, N.A.    March 12, 2023                 10540  \n",
       "8  First Citizens Bank & Trust Company    March 10, 2023                 10539  \n",
       "9                          Equity Bank  October 23, 2020                 10538  "
      ]
     },
     "execution_count": 21,
     "metadata": {},
     "output_type": "execute_result"
    }
   ],
   "source": [
    "df2[0]"
   ]
  },
  {
   "cell_type": "code",
   "execution_count": 23,
   "id": "a34fd494",
   "metadata": {},
   "outputs": [],
   "source": [
    "#read wikipedia page\n",
    "\n",
    "url = \"https://en.wikipedia.org/wiki/Mobile_country_code\"\n",
    "dff = pd.read_html(url, header=0)"
   ]
  },
  {
   "cell_type": "code",
   "execution_count": 24,
   "id": "124d8b1e",
   "metadata": {},
   "outputs": [
    {
     "data": {
      "text/plain": [
       "[   MCC  MNC Brand      Operator       Status Bands (MHz)  \\\n",
       " 0    1    1  TEST  Test network  Operational         any   \n",
       " 1    1    1  TEST  Test network  Operational         any   \n",
       " 2  999   99   NaN  Internal use  Operational         any   \n",
       " 3  999  999   NaN  Internal use  Operational         any   \n",
       " \n",
       "                               References and notes  \n",
       " 0                                              NaN  \n",
       " 1                                              NaN  \n",
       " 2  Internal use in private networks, no roaming[6]  \n",
       " 3  Internal use in private networks, no roaming[6]  ,\n",
       "      Mobile country code                                    Country ISO 3166  \\\n",
       " 0                    289                                 A Abkhazia    GE-AB   \n",
       " 1                    412                                Afghanistan       AF   \n",
       " 2                    276                                    Albania       AL   \n",
       " 3                    603                                    Algeria       DZ   \n",
       " 4                    544  American Samoa (United States of America)       AS   \n",
       " ..                   ...                                        ...      ...   \n",
       " 247                  452                                    Vietnam       VN   \n",
       " 248                  543                        W Wallis and Futuna       WF   \n",
       " 249                  421                                    Y Yemen       YE   \n",
       " 250                  645                                   Z Zambia       ZM   \n",
       " 251                  648                                   Zimbabwe       ZW   \n",
       " \n",
       "                                   Mobile network codes National MNC authority  \\\n",
       " 0             List of mobile network codes in Abkhazia                    NaN   \n",
       " 1          List of mobile network codes in Afghanistan                    NaN   \n",
       " 2              List of mobile network codes in Albania                    NaN   \n",
       " 3              List of mobile network codes in Algeria                    NaN   \n",
       " 4       List of mobile network codes in American Samoa                    NaN   \n",
       " ..                                                 ...                    ...   \n",
       " 247        List of mobile network codes in the Vietnam                    NaN   \n",
       " 248  List of mobile network codes in Wallis and Futuna                    NaN   \n",
       " 249          List of mobile network codes in the Yemen                    NaN   \n",
       " 250             List of mobile network codes in Zambia                    NaN   \n",
       " 251           List of mobile network codes in Zimbabwe                    NaN   \n",
       " \n",
       "                       Remarks  \n",
       " 0    MCC is not listed by ITU  \n",
       " 1                         NaN  \n",
       " 2                         NaN  \n",
       " 3                         NaN  \n",
       " 4                         NaN  \n",
       " ..                        ...  \n",
       " 247                       NaN  \n",
       " 248                       NaN  \n",
       " 249                       NaN  \n",
       " 250                       NaN  \n",
       " 251                       NaN  \n",
       " \n",
       " [252 rows x 6 columns],\n",
       "      MCC  MNC     Brand                  Operator           Status  \\\n",
       " 0    901    1       NaN                   Webbing          Unknown   \n",
       " 1    901    2       NaN            GlobalmatiX AG          Unknown   \n",
       " 2    901    3   Iridium                       NaN      Operational   \n",
       " 3    901    4       NaN  BBIX Singapore Pte. Ltd.          Unknown   \n",
       " 4    901    5       NaN      Thuraya RMSS Network      Operational   \n",
       " ..   ...  ...       ...                       ...              ...   \n",
       " 99   902    1       NaN        MulteFire Alliance      Operational   \n",
       " 100  991    1       NaN    World's Global Telecom  Not operational   \n",
       " 101  991    2  5G Croco               Orange S.A.  Not operational   \n",
       " 102  991    3       NaN                 Halys SAS  Not operational   \n",
       " 103  991    4       NaN              E-Space Inc.          Unknown   \n",
       " \n",
       "     Bands (MHz)                               References and notes  \n",
       " 0          MVNO            Former ICO Satellite Management[51][52]  \n",
       " 1       Unknown  Former Sense Communications International; veh...  \n",
       " 2     Satellite                                                NaN  \n",
       " 3       Unknown                              Former Globalstar[54]  \n",
       " 4     Satellite                                                NaN  \n",
       " ..          ...                                                ...  \n",
       " 99          LTE                                           [6][126]  \n",
       " 100     Unknown  temporarily assigned until 15 January 2021[104...  \n",
       " 101          5G  temporarily assigned until 6 August 2022[128][...  \n",
       " 102     Unknown  temporary assignment for trial until 5 April 2...  \n",
       " 103   Satellite  temporary assignment for trial until 17 Oct 20...  \n",
       " \n",
       " [104 rows x 7 columns],\n",
       "    MCC  MNC     Brand                 Operator       Status Bands (MHz)  \\\n",
       " 0  995    1  FonePlus  Sure (Diego Garcia) Ltd  Operational     GSM 900   \n",
       " \n",
       "                                 References and notes  \n",
       " 0  There appears to be no officially assigned MCC...  ,\n",
       "                                vteTelecommunications  \\\n",
       " 0                                            History   \n",
       " 1                                           Pioneers   \n",
       " 2                                 Transmission media   \n",
       " 3                     Network topology and switching   \n",
       " 4                                       Multiplexing   \n",
       " 5                                           Concepts   \n",
       " 6                                   Types of network   \n",
       " 7                                   Notable networks   \n",
       " 8                                          Locations   \n",
       " 9  Telecommunication portal  Category  Outline  C...   \n",
       " \n",
       "                              vteTelecommunications.1  \n",
       " 0  Beacon Broadcasting Cable protection system Ca...  \n",
       " 1  Nasir Ahmed Edwin Howard Armstrong Mohamed M. ...  \n",
       " 2  Coaxial cable Fiber-optic communication optica...  \n",
       " 3  Bandwidth Links Network switching circuit pack...  \n",
       " 4  Space-division Frequency-division Time-divisio...  \n",
       " 5  Communication protocol Computer network Data t...  \n",
       " 6  Cellular network Ethernet ISDN LAN Mobile NGN ...  \n",
       " 7  ARPANET BITNET CYCLADES FidoNet Internet Inter...  \n",
       " 8  Africa Americas North South Antarctica Asia Eu...  \n",
       " 9  Telecommunication portal  Category  Outline  C...  ]"
      ]
     },
     "execution_count": 24,
     "metadata": {},
     "output_type": "execute_result"
    }
   ],
   "source": [
    "dff"
   ]
  },
  {
   "cell_type": "code",
   "execution_count": 25,
   "id": "3ce389ed",
   "metadata": {},
   "outputs": [
    {
     "data": {
      "text/html": [
       "<div>\n",
       "<style scoped>\n",
       "    .dataframe tbody tr th:only-of-type {\n",
       "        vertical-align: middle;\n",
       "    }\n",
       "\n",
       "    .dataframe tbody tr th {\n",
       "        vertical-align: top;\n",
       "    }\n",
       "\n",
       "    .dataframe thead th {\n",
       "        text-align: right;\n",
       "    }\n",
       "</style>\n",
       "<table border=\"1\" class=\"dataframe\">\n",
       "  <thead>\n",
       "    <tr style=\"text-align: right;\">\n",
       "      <th></th>\n",
       "      <th>MCC</th>\n",
       "      <th>MNC</th>\n",
       "      <th>Brand</th>\n",
       "      <th>Operator</th>\n",
       "      <th>Status</th>\n",
       "      <th>Bands (MHz)</th>\n",
       "      <th>References and notes</th>\n",
       "    </tr>\n",
       "  </thead>\n",
       "  <tbody>\n",
       "    <tr>\n",
       "      <th>0</th>\n",
       "      <td>1</td>\n",
       "      <td>1</td>\n",
       "      <td>TEST</td>\n",
       "      <td>Test network</td>\n",
       "      <td>Operational</td>\n",
       "      <td>any</td>\n",
       "      <td>NaN</td>\n",
       "    </tr>\n",
       "    <tr>\n",
       "      <th>1</th>\n",
       "      <td>1</td>\n",
       "      <td>1</td>\n",
       "      <td>TEST</td>\n",
       "      <td>Test network</td>\n",
       "      <td>Operational</td>\n",
       "      <td>any</td>\n",
       "      <td>NaN</td>\n",
       "    </tr>\n",
       "    <tr>\n",
       "      <th>2</th>\n",
       "      <td>999</td>\n",
       "      <td>99</td>\n",
       "      <td>NaN</td>\n",
       "      <td>Internal use</td>\n",
       "      <td>Operational</td>\n",
       "      <td>any</td>\n",
       "      <td>Internal use in private networks, no roaming[6]</td>\n",
       "    </tr>\n",
       "    <tr>\n",
       "      <th>3</th>\n",
       "      <td>999</td>\n",
       "      <td>999</td>\n",
       "      <td>NaN</td>\n",
       "      <td>Internal use</td>\n",
       "      <td>Operational</td>\n",
       "      <td>any</td>\n",
       "      <td>Internal use in private networks, no roaming[6]</td>\n",
       "    </tr>\n",
       "  </tbody>\n",
       "</table>\n",
       "</div>"
      ],
      "text/plain": [
       "   MCC  MNC Brand      Operator       Status Bands (MHz)  \\\n",
       "0    1    1  TEST  Test network  Operational         any   \n",
       "1    1    1  TEST  Test network  Operational         any   \n",
       "2  999   99   NaN  Internal use  Operational         any   \n",
       "3  999  999   NaN  Internal use  Operational         any   \n",
       "\n",
       "                              References and notes  \n",
       "0                                              NaN  \n",
       "1                                              NaN  \n",
       "2  Internal use in private networks, no roaming[6]  \n",
       "3  Internal use in private networks, no roaming[6]  "
      ]
     },
     "execution_count": 25,
     "metadata": {},
     "output_type": "execute_result"
    }
   ],
   "source": [
    "dff[0]"
   ]
  },
  {
   "cell_type": "code",
   "execution_count": 26,
   "id": "ad6ec9fb",
   "metadata": {},
   "outputs": [],
   "source": [
    "d1=pd.read_excel('data.xlsx')"
   ]
  },
  {
   "cell_type": "code",
   "execution_count": 27,
   "id": "cb9c5175",
   "metadata": {},
   "outputs": [
    {
     "data": {
      "text/html": [
       "<div>\n",
       "<style scoped>\n",
       "    .dataframe tbody tr th:only-of-type {\n",
       "        vertical-align: middle;\n",
       "    }\n",
       "\n",
       "    .dataframe tbody tr th {\n",
       "        vertical-align: top;\n",
       "    }\n",
       "\n",
       "    .dataframe thead th {\n",
       "        text-align: right;\n",
       "    }\n",
       "</style>\n",
       "<table border=\"1\" class=\"dataframe\">\n",
       "  <thead>\n",
       "    <tr style=\"text-align: right;\">\n",
       "      <th></th>\n",
       "      <th>Name</th>\n",
       "      <th>age</th>\n",
       "    </tr>\n",
       "  </thead>\n",
       "  <tbody>\n",
       "    <tr>\n",
       "      <th>0</th>\n",
       "      <td>sai</td>\n",
       "      <td>20</td>\n",
       "    </tr>\n",
       "    <tr>\n",
       "      <th>1</th>\n",
       "      <td>damini</td>\n",
       "      <td>21</td>\n",
       "    </tr>\n",
       "    <tr>\n",
       "      <th>2</th>\n",
       "      <td>aditi</td>\n",
       "      <td>22</td>\n",
       "    </tr>\n",
       "    <tr>\n",
       "      <th>3</th>\n",
       "      <td>sayali</td>\n",
       "      <td>21</td>\n",
       "    </tr>\n",
       "  </tbody>\n",
       "</table>\n",
       "</div>"
      ],
      "text/plain": [
       "     Name  age\n",
       "0     sai   20\n",
       "1  damini   21\n",
       "2   aditi   22\n",
       "3  sayali   21"
      ]
     },
     "execution_count": 27,
     "metadata": {},
     "output_type": "execute_result"
    }
   ],
   "source": [
    "d1"
   ]
  },
  {
   "cell_type": "code",
   "execution_count": 30,
   "id": "982bc89f",
   "metadata": {},
   "outputs": [],
   "source": [
    "#A Pickle file is a way to save a Python object to a file so you can reuse it later.\n",
    "#use in ml to train mode\n",
    "#in pandas dataframe\n",
    "\n",
    "df_excel=pd.read_excel('data.xlsx')"
   ]
  },
  {
   "cell_type": "code",
   "execution_count": 33,
   "id": "10901ee8",
   "metadata": {},
   "outputs": [
    {
     "data": {
      "text/html": [
       "<div>\n",
       "<style scoped>\n",
       "    .dataframe tbody tr th:only-of-type {\n",
       "        vertical-align: middle;\n",
       "    }\n",
       "\n",
       "    .dataframe tbody tr th {\n",
       "        vertical-align: top;\n",
       "    }\n",
       "\n",
       "    .dataframe thead th {\n",
       "        text-align: right;\n",
       "    }\n",
       "</style>\n",
       "<table border=\"1\" class=\"dataframe\">\n",
       "  <thead>\n",
       "    <tr style=\"text-align: right;\">\n",
       "      <th></th>\n",
       "      <th>Name</th>\n",
       "      <th>age</th>\n",
       "    </tr>\n",
       "  </thead>\n",
       "  <tbody>\n",
       "    <tr>\n",
       "      <th>0</th>\n",
       "      <td>sai</td>\n",
       "      <td>20</td>\n",
       "    </tr>\n",
       "    <tr>\n",
       "      <th>1</th>\n",
       "      <td>damini</td>\n",
       "      <td>21</td>\n",
       "    </tr>\n",
       "    <tr>\n",
       "      <th>2</th>\n",
       "      <td>aditi</td>\n",
       "      <td>22</td>\n",
       "    </tr>\n",
       "    <tr>\n",
       "      <th>3</th>\n",
       "      <td>sayali</td>\n",
       "      <td>21</td>\n",
       "    </tr>\n",
       "  </tbody>\n",
       "</table>\n",
       "</div>"
      ],
      "text/plain": [
       "     Name  age\n",
       "0     sai   20\n",
       "1  damini   21\n",
       "2   aditi   22\n",
       "3  sayali   21"
      ]
     },
     "execution_count": 33,
     "metadata": {},
     "output_type": "execute_result"
    }
   ],
   "source": [
    "# Save the DataFrame to a pickle file first\n",
    "df_excel.to_pickle('data_excel.pkl')\n",
    "\n",
    "# Now read it back from the pickle file\n",
    "df_excel = pd.read_pickle('data_excel.pkl')\n",
    "df_excel"
   ]
  }
 ],
 "metadata": {
  "kernelspec": {
   "display_name": "Python 3",
   "language": "python",
   "name": "python3"
  },
  "language_info": {
   "codemirror_mode": {
    "name": "ipython",
    "version": 3
   },
   "file_extension": ".py",
   "mimetype": "text/x-python",
   "name": "python",
   "nbconvert_exporter": "python",
   "pygments_lexer": "ipython3",
   "version": "3.13.2"
  }
 },
 "nbformat": 4,
 "nbformat_minor": 5
}
