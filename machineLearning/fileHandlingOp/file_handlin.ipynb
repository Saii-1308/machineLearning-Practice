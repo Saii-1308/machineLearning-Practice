{
 "cells": [
  {
   "cell_type": "code",
   "execution_count": 5,
   "id": "3280a9ed",
   "metadata": {},
   "outputs": [],
   "source": [
    "with open(\"example.txt\",\"w\")as file:\n",
    "    file.write(\"hello sai!!\\n\")\n",
    "    file.write(\"what are u doing?\\n\")"
   ]
  },
  {
   "cell_type": "code",
   "execution_count": 6,
   "id": "1eca3659",
   "metadata": {},
   "outputs": [
    {
     "name": "stdout",
     "output_type": "stream",
     "text": [
      "hello sai!!\n",
      "what are u doing?\n",
      "\n"
     ]
    }
   ],
   "source": [
    "with open(\"example.txt\",\"r\")as file:\n",
    "    content=file.read()\n",
    "    print(content)"
   ]
  },
  {
   "cell_type": "code",
   "execution_count": 7,
   "id": "607febc7",
   "metadata": {},
   "outputs": [
    {
     "name": "stdout",
     "output_type": "stream",
     "text": [
      "name,age\n",
      "sai,20\n"
     ]
    }
   ],
   "source": [
    "with open(\"data.csv\",\"r\")as file:\n",
    "    for line in file:\n",
    "        print(line.strip())#remove new line character"
   ]
  },
  {
   "cell_type": "code",
   "execution_count": 8,
   "id": "5240d5f4",
   "metadata": {},
   "outputs": [],
   "source": [
    "# writing the file (overwriting the existing file)\n",
    "\n",
    "with open(\"example.txt\",\"w\") as file:\n",
    "    file.write(\"hello sai!\\n\")\n",
    "    file.write(\"keep it up\\n\")\n",
    "    file.write(\"u can do it\\n\")"
   ]
  },
  {
   "cell_type": "code",
   "execution_count": 9,
   "id": "69754747",
   "metadata": {},
   "outputs": [],
   "source": [
    "#write without overwriting in append mode\n",
    "with open(\"example.txt\",\"a\")as file:\n",
    "    file.write(\"hey now i'm append this line into file\\n\")\n",
    "    file.write(\"this is the last line\\n\")"
   ]
  },
  {
   "cell_type": "code",
   "execution_count": 10,
   "id": "7f279d1f",
   "metadata": {},
   "outputs": [],
   "source": [
    "lines=['firest line\\n','second line\\n','third line\\n']\n",
    "with open(\"example.txt\",\"a\")as file:\n",
    "    file.writelines(lines)"
   ]
  },
  {
   "cell_type": "code",
   "execution_count": 11,
   "id": "9a67036b",
   "metadata": {},
   "outputs": [],
   "source": [
    "#binary file operation\n",
    "data=b'\\x00\\x01\\x02\\x03\\x04\\x05\\x06\\x07\\x08\\x09'\n",
    "with open(\"examples.bin\",\"wb\")as file:\n",
    "    file.write(data)"
   ]
  },
  {
   "cell_type": "code",
   "execution_count": 12,
   "id": "94f925bc",
   "metadata": {},
   "outputs": [
    {
     "name": "stdout",
     "output_type": "stream",
     "text": [
      "b'\\x00\\x01\\x02\\x03\\x04\\x05\\x06\\x07\\x08\\t'\n"
     ]
    }
   ],
   "source": [
    "with open(\"examples.bin\",\"rb\") as file:\n",
    "    binary_data=file.read()\n",
    "    print(binary_data)"
   ]
  },
  {
   "cell_type": "code",
   "execution_count": 13,
   "id": "aadcfca0",
   "metadata": {},
   "outputs": [],
   "source": [
    "with open(\"examples.bin\",\"ab\")as file:\n",
    "    file.write(b'\\x0a\\x0b\\x0c\\x0d\\x0e\\x0f\\x10\\x11\\x12\\x13')"
   ]
  },
  {
   "cell_type": "code",
   "execution_count": 14,
   "id": "a4e6627d",
   "metadata": {},
   "outputs": [
    {
     "name": "stdout",
     "output_type": "stream",
     "text": [
      "Line count: 8\n",
      "Word count: 28\n",
      "Character count: 130\n"
     ]
    }
   ],
   "source": [
    "with open(\"example.txt\",\"r\")as file:\n",
    "    content=file.readlines()\n",
    "    line_count=len(content)\n",
    "    word_count=sum(len(line.split()) for line in content)\n",
    "    char_count=sum(len(line)for line in content)\n",
    "    print(f\"Line count: {line_count}\")\n",
    "    print(f\"Word count: {word_count}\")      \n",
    "    print(f\"Character count: {char_count}\")"
   ]
  },
  {
   "cell_type": "code",
   "execution_count": 15,
   "id": "a767ff96",
   "metadata": {},
   "outputs": [
    {
     "name": "stdout",
     "output_type": "stream",
     "text": [
      "hello world\n",
      "this is a new file\n",
      "\n"
     ]
    }
   ],
   "source": [
    "with open(\"newtext.txt\",\"w+\")as file:\n",
    "    file.write(\"hello world\\n\")\n",
    "    file.write(\"this is a new file\\n\")\n",
    "\n",
    "    #move file cursor to begining of file\n",
    "    file.seek(0)\n",
    "    #read the content of the file\n",
    "    content=file.read()\n",
    "    print(content)"
   ]
  },
  {
   "cell_type": "code",
   "execution_count": 16,
   "id": "858e80ab",
   "metadata": {},
   "outputs": [
    {
     "name": "stdout",
     "output_type": "stream",
     "text": [
      "c:\\Users\\jadha\\OneDrive\\Desktop\\machineLearning\\fileHandlingOp\n"
     ]
    }
   ],
   "source": [
    "import os\n",
    "print(os.getcwd())"
   ]
  },
  {
   "cell_type": "code",
   "execution_count": 17,
   "id": "2acaa344",
   "metadata": {},
   "outputs": [],
   "source": [
    "import os\n",
    "os.mkdir(\"package\")"
   ]
  },
  {
   "cell_type": "code",
   "execution_count": 19,
   "id": "0b57219f",
   "metadata": {},
   "outputs": [
    {
     "name": "stdout",
     "output_type": "stream",
     "text": [
      "['data.csv', 'destination.txt', 'example.txt', 'examples.bin', 'file_handlin.ipynb', 'newtext.txt', 'package']\n"
     ]
    }
   ],
   "source": [
    "#liste all files and directories in the current directory\n",
    "items=os.listdir('.')\n",
    "print(items)"
   ]
  },
  {
   "cell_type": "code",
   "execution_count": 20,
   "id": "04c44d6d",
   "metadata": {},
   "outputs": [
    {
     "name": "stdout",
     "output_type": "stream",
     "text": [
      "folder\\file.txt\n"
     ]
    }
   ],
   "source": [
    "###joining paths\n",
    "\n",
    "dir_name=\"folder\"\n",
    "file_name=\"file.txt\"\n",
    "full_path=os.path.join(dir_name,file_name)\n",
    "print(full_path)"
   ]
  },
  {
   "cell_type": "code",
   "execution_count": 21,
   "id": "5e0617df",
   "metadata": {},
   "outputs": [
    {
     "name": "stdout",
     "output_type": "stream",
     "text": [
      "c:\\Users\\jadha\\OneDrive\\Desktop\\machineLearning\\fileHandlingOp\\folder\\file.txt\n"
     ]
    }
   ],
   "source": [
    "\n",
    "dir_name=\"folder\"\n",
    "file_name=\"file.txt\"\n",
    "full_path=os.path.join(os.getcwd(),dir_name,file_name)\n",
    "print(full_path)"
   ]
  },
  {
   "cell_type": "code",
   "execution_count": 25,
   "id": "ce614a54",
   "metadata": {},
   "outputs": [
    {
     "name": "stdout",
     "output_type": "stream",
     "text": [
      "example.txt exists\n"
     ]
    }
   ],
   "source": [
    "path=\"example.txt\"\n",
    "if os.path.exists(path):\n",
    "    print(f\"{path} exists\")\n",
    "else:\n",
    "    print(f\"{file} does not exist\")"
   ]
  },
  {
   "cell_type": "code",
   "execution_count": 26,
   "id": "6b7e53be",
   "metadata": {},
   "outputs": [
    {
     "name": "stdout",
     "output_type": "stream",
     "text": [
      "examples.bin is a file\n"
     ]
    }
   ],
   "source": [
    "path=\"examples.bin\"\n",
    "\n",
    "if os.path.isfile(path):\n",
    "    print(f\"{path} is a file\")\n",
    "elif os.path.isdir(path):\n",
    "    print(f\"{path} is a directory\")\n",
    "else:\n",
    "    print(f\"{path} does not exist or is neither a file nor a directory\")"
   ]
  },
  {
   "cell_type": "code",
   "execution_count": 27,
   "id": "2c33f0d6",
   "metadata": {},
   "outputs": [
    {
     "name": "stdout",
     "output_type": "stream",
     "text": [
      "c:\\Users\\jadha\\OneDrive\\Desktop\\machineLearning\\fileHandlingOp\\example.txt\n"
     ]
    }
   ],
   "source": [
    "relative_path=\"example.txt\"\n",
    "absolute_path=os.path.abspath(relative_path)\n",
    "print(absolute_path)"
   ]
  },
  {
   "cell_type": "code",
   "execution_count": null,
   "id": "9e5fc349",
   "metadata": {},
   "outputs": [],
   "source": [
    "with open(\"example.txt\",\"r\")as file:\n",
    "    text=file.read()\n",
    "    new_text=text.replace(\"sai\",\"sai jadhav\")\n",
    "    \n",
    "with open(\"example.txt\",\"w\")as file:\n",
    "    file.write(new_text)"
   ]
  },
  {
   "cell_type": "code",
   "execution_count": 29,
   "id": "73941793",
   "metadata": {},
   "outputs": [
    {
     "name": "stdout",
     "output_type": "stream",
     "text": [
      "third line\n",
      "second line\n",
      "firest line\n",
      "this is the last line\n",
      "hey now i'm append this line into file\n",
      "u can do it\n",
      "keep it up\n",
      "hello sai jadhav!\n"
     ]
    }
   ],
   "source": [
    "with open(\"example.txt\",\"r\")as file:\n",
    "    lines=file.readlines()\n",
    "    for line in reversed(lines):\n",
    "        print(line.strip())"
   ]
  },
  {
   "cell_type": "code",
   "execution_count": 32,
   "id": "7344d80b",
   "metadata": {},
   "outputs": [],
   "source": [
    "def merge_file(filelist, outputfile):\n",
    "    with open(outputfile, \"w\") as outfile:\n",
    "        for filename in filelist:\n",
    "            with open(filename, \"r\") as infile:\n",
    "                content = infile.read()\n",
    "                outfile.write(content)\n",
    "\n",
    "filelist = [\"example.txt\", \"destination.txt\"]\n",
    "merge_file(filelist, \"merged_output.txt\")"
   ]
  },
  {
   "cell_type": "code",
   "execution_count": 33,
   "id": "f336b0f8",
   "metadata": {},
   "outputs": [],
   "source": [
    "from datetime import *\n",
    "\n",
    "def log_message(meaage,file_name=\"activity.txt\"):\n",
    "    timestamp=datetime.now().isoformat()\n",
    "    with open(\"activity.txt\",\"w\")as file:\n",
    "        file.write(f\"{timestamp}-{meaage}\\n\")\n",
    "\n",
    "log_message(\" This is a log message\")"
   ]
  },
  {
   "cell_type": "code",
   "execution_count": 34,
   "id": "fb99ff42",
   "metadata": {},
   "outputs": [
    {
     "name": "stdout",
     "output_type": "stream",
     "text": [
      "example.txt is readable : hello sai jadhav!\n",
      "keep it up\n",
      "u can do it\n",
      "hey now i'm append this line into file\n",
      "this is the last line\n",
      "firest line\n",
      "second line\n",
      "third line\n",
      "\n"
     ]
    }
   ],
   "source": [
    "def file_permission(file_name):\n",
    "    try:\n",
    "        with open(file_name,\"r\")as file:\n",
    "            print(f\"{file_name} is readable :\",file.read())\n",
    "    except PermissionError:\n",
    "        print(f\"{file_name}not readable due to permsission error\")\n",
    "\n",
    "file_permission(\"example.txt\")"
   ]
  }
 ],
 "metadata": {
  "kernelspec": {
   "display_name": "Python 3",
   "language": "python",
   "name": "python3"
  },
  "language_info": {
   "codemirror_mode": {
    "name": "ipython",
    "version": 3
   },
   "file_extension": ".py",
   "mimetype": "text/x-python",
   "name": "python",
   "nbconvert_exporter": "python",
   "pygments_lexer": "ipython3",
   "version": "3.13.2"
  }
 },
 "nbformat": 4,
 "nbformat_minor": 5
}
