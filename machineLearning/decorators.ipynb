{
 "cells": [
  {
   "cell_type": "code",
   "execution_count": null,
   "id": "3cf210cd",
   "metadata": {},
   "outputs": [],
   "source": [
    "#Decorators\n",
    "#function copy\n",
    "#closure"
   ]
  },
  {
   "cell_type": "code",
   "execution_count": null,
   "id": "796494cd",
   "metadata": {},
   "outputs": [],
   "source": [
    "'''#function copy\n",
    "\n",
    "copy the 1 function into other function when we delete the \n",
    "reference of the function still it's copy are live'''"
   ]
  },
  {
   "cell_type": "code",
   "execution_count": 5,
   "id": "0aa0bf38",
   "metadata": {},
   "outputs": [
    {
     "name": "stdout",
     "output_type": "stream",
     "text": [
      "Welcome to the world of Python\n",
      "<class 'NoneType'>\n",
      "<class 'function'>\n",
      "Welcome to the world of Python\n",
      "None\n"
     ]
    }
   ],
   "source": [
    "#function copy\n",
    "\n",
    "def welcome():\n",
    "    print(\"Welcome to the world of Python\")\n",
    "\n",
    "wel=welcome\n",
    "print(type(welcome()))\n",
    "print(type(wel))\n",
    "del welcome\n",
    "print(wel())"
   ]
  },
  {
   "cell_type": "code",
   "execution_count": 10,
   "id": "9291ac84",
   "metadata": {},
   "outputs": [
    {
     "name": "stdout",
     "output_type": "stream",
     "text": [
      "Welcome to the sub_function\n",
      "hello sai jadhav Welcome!!\n",
      "[1, 2, 3, 4, 5]\n"
     ]
    }
   ],
   "source": [
    "#closure-nested function  \n",
    "#function inside the function is called closure\n",
    "\n",
    "def main_function(list):\n",
    "    msg=\"hello sai jadhav\"\n",
    "    def sub_function():\n",
    "        print(\"Welcome to the sub_function\")\n",
    "        print(f\"{msg} Welcome!!\")\n",
    "        print(list)\n",
    "    return sub_function()\n",
    "\n",
    "list=[1,2,3,4,5]\n",
    "main_function(list)"
   ]
  },
  {
   "cell_type": "code",
   "execution_count": 8,
   "id": "a898ad27",
   "metadata": {},
   "outputs": [
    {
     "name": "stdout",
     "output_type": "stream",
     "text": [
      "hey this is outer function!!\n",
      " hello\n"
     ]
    }
   ],
   "source": [
    "def outerFunction():\n",
    "    print(\"hey this is outer function!!\")\n",
    "    def innerFunction():\n",
    "        print(\" hello\")\n",
    "        a=10\n",
    "    return innerFunction()\n",
    "\n",
    "\n",
    "outerFunction()"
   ]
  },
  {
   "cell_type": "code",
   "execution_count": 11,
   "id": "ee74f1a4",
   "metadata": {},
   "outputs": [
    {
     "name": "stdout",
     "output_type": "stream",
     "text": [
      "hey this is the sub function insie the main function\n",
      "this is the redefine function\n",
      "by see u soon!!\n"
     ]
    }
   ],
   "source": [
    "def main(func):\n",
    "    def sub():\n",
    "        print(\"hey this is the sub function insie the main function\")\n",
    "        func(\"this is the redefine function\")\n",
    "        print(\"by see u soon!!\")\n",
    "    \n",
    "    return sub()\n",
    "\n",
    "main(print)"
   ]
  },
  {
   "cell_type": "code",
   "execution_count": 12,
   "id": "758c4c4c",
   "metadata": {},
   "outputs": [
    {
     "name": "stdout",
     "output_type": "stream",
     "text": [
      "Welcome to the sub_function\n",
      "6\n",
      "[1, 2, 3, 4, 5]\n"
     ]
    }
   ],
   "source": [
    "\n",
    "def main_function(func,lst):\n",
    "    msg=\"hello sai jadhav\"\n",
    "    def sub_function():\n",
    "        print(\"Welcome to the sub_function\")\n",
    "        print(func(lst))\n",
    "        print(list)\n",
    "    return sub_function()\n",
    "\n",
    "lst=[1,2,3,43,4,5]\n",
    "main_function(len,lst)"
   ]
  },
  {
   "cell_type": "code",
   "execution_count": 14,
   "id": "f69013ec",
   "metadata": {},
   "outputs": [
    {
     "name": "stdout",
     "output_type": "stream",
     "text": [
      "Welcome to the sub_function\n",
      "6\n",
      "[1, 2, 3, 4, 5]\n"
     ]
    }
   ],
   "source": [
    "\n",
    "def main_function(func,lst):\n",
    "    msg=\"hello sai jadhav\"\n",
    "    def sub_function():\n",
    "        print(\"Welcome to the sub_function\")\n",
    "        print(func(lst))\n",
    "        print(list)\n",
    "    return sub_function()\n",
    "\n",
    "lst=[0,2,3,4,5,6]\n",
    "main_function(max,lst)"
   ]
  },
  {
   "cell_type": "code",
   "execution_count": null,
   "id": "182e9661",
   "metadata": {},
   "outputs": [],
   "source": [
    "####Decorators\n",
    "\n",
    "def main(func):\n",
    "    def sub():\n",
    "        print(\"hey this is the sub function inside the main function\")\n",
    "        func()\n",
    "        print(\"by see u soon!!\")\n",
    "    \n",
    "    return sub()\n",
    "\n"
   ]
  },
  {
   "cell_type": "code",
   "execution_count": 29,
   "id": "345cf08a",
   "metadata": {},
   "outputs": [
    {
     "name": "stdout",
     "output_type": "stream",
     "text": [
      "this is other function create to impletemt the decoraters\n"
     ]
    }
   ],
   "source": [
    "def other_fun():\n",
    "    print(\"this is other function create to impletemt the decoraters\")\n",
    "\n",
    "other_fun()"
   ]
  },
  {
   "cell_type": "code",
   "execution_count": 20,
   "id": "54d2b098",
   "metadata": {},
   "outputs": [
    {
     "name": "stdout",
     "output_type": "stream",
     "text": [
      "hey this is the sub function insie the main function\n",
      "this is other function create to impletemt the decoraters\n",
      "by see u soon!!\n"
     ]
    }
   ],
   "source": [
    "main(other_fun)"
   ]
  },
  {
   "cell_type": "code",
   "execution_count": null,
   "id": "c900f754",
   "metadata": {},
   "outputs": [
    {
     "name": "stdout",
     "output_type": "stream",
     "text": [
      "hey this is the sub function insie the main function\n",
      "this is other function create to impletemt the decoraters\n",
      "by see u soon!!\n"
     ]
    }
   ],
   "source": [
    "@main#decorator keyword\n",
    "def other_fun():#this function go parameters in the main function\n",
    "    print(\"this is other function create to impletemt the decoraters\")\n"
   ]
  },
  {
   "cell_type": "code",
   "execution_count": 32,
   "id": "a828077f",
   "metadata": {},
   "outputs": [],
   "source": [
    "##2nd example\n",
    "\n",
    "def my_decorator(func):\n",
    "    \n",
    "    def wrapper():\n",
    "        print(\"something befor the function call\")\n",
    "        func()\n",
    "        print(\"something after the function call\")\n",
    "    return wrapper()\n"
   ]
  },
  {
   "cell_type": "code",
   "execution_count": 33,
   "id": "8f61c2f3",
   "metadata": {},
   "outputs": [
    {
     "name": "stdout",
     "output_type": "stream",
     "text": [
      "something befor the function call\n",
      "hello\n",
      "something after the function call\n"
     ]
    }
   ],
   "source": [
    "@my_decorator\n",
    "def say_hello():\n",
    "    print(\"hello\")"
   ]
  },
  {
   "cell_type": "code",
   "execution_count": 37,
   "id": "3aa2cd53",
   "metadata": {},
   "outputs": [],
   "source": [
    "#decorator with arguments\n",
    "\n",
    "def repeate(n):\n",
    "    def decorator(func):\n",
    "        def wrapper(*args,**kwargs):\n",
    "            for _  in range(n):\n",
    "                func(*args,**kwargs)\n",
    "        return wrapper\n",
    "    return decorator\n"
   ]
  },
  {
   "cell_type": "code",
   "execution_count": 38,
   "id": "a767c4bd",
   "metadata": {},
   "outputs": [],
   "source": [
    "@repeate(4)\n",
    "def say_hello():\n",
    "    print(\"helllo\")"
   ]
  },
  {
   "cell_type": "code",
   "execution_count": 39,
   "id": "24a01b97",
   "metadata": {},
   "outputs": [
    {
     "name": "stdout",
     "output_type": "stream",
     "text": [
      "helllo\n",
      "helllo\n",
      "helllo\n",
      "helllo\n"
     ]
    }
   ],
   "source": [
    "say_hello()"
   ]
  }
 ],
 "metadata": {
  "kernelspec": {
   "display_name": "Python 3",
   "language": "python",
   "name": "python3"
  },
  "language_info": {
   "codemirror_mode": {
    "name": "ipython",
    "version": 3
   },
   "file_extension": ".py",
   "mimetype": "text/x-python",
   "name": "python",
   "nbconvert_exporter": "python",
   "pygments_lexer": "ipython3",
   "version": "3.13.2"
  }
 },
 "nbformat": 4,
 "nbformat_minor": 5
}
